{
 "cells": [
  {
   "cell_type": "markdown",
   "id": "370bbbd8-1d98-4bbe-b046-3aae1c4e09ae",
   "metadata": {},
   "source": [
    "# TOPIC: String based assignment problem"
   ]
  },
  {
   "cell_type": "markdown",
   "id": "7f997690-f148-4a0e-91e8-83d9b368698f",
   "metadata": {},
   "source": [
    "### 1. Write a program to reverse a string."
   ]
  },
  {
   "cell_type": "code",
   "execution_count": 1,
   "id": "43baf466-1977-4c77-a1aa-aa49c3627db5",
   "metadata": {},
   "outputs": [
    {
     "name": "stdout",
     "output_type": "stream",
     "text": [
      "orp ecneics atad\n"
     ]
    }
   ],
   "source": [
    "# given string:\n",
    "string = \"data science pro\"\n",
    "\n",
    "# using slicing method:\n",
    "reversed_string = string[::-1]\n",
    "\n",
    "# print reversed string:\n",
    "print(reversed_string)"
   ]
  },
  {
   "cell_type": "markdown",
   "id": "b234819f-6c50-4c98-a769-cae731ae5df2",
   "metadata": {},
   "source": [
    "### 2. Check if a string is a palindrome."
   ]
  },
  {
   "cell_type": "code",
   "execution_count": 2,
   "id": "165f9bad-adb7-448d-9266-95bf59b95a2d",
   "metadata": {},
   "outputs": [
    {
     "name": "stdout",
     "output_type": "stream",
     "text": [
      "string is not palindrome\n",
      "string is not palindrome\n",
      "string is not palindrome\n",
      "string is not palindrome\n",
      "string is not palindrome\n",
      "string is not palindrome\n",
      "string is not palindrome\n",
      "string is not palindrome\n",
      "string is palindrome\n"
     ]
    }
   ],
   "source": [
    "string = \"malayalam\"\n",
    "revstr = \"\"\n",
    "for i in string:\n",
    "    revstr = i+revstr\n",
    "    if(string == revstr):\n",
    "        print(\"string is palindrome\")\n",
    "    else:\n",
    "        print(\"string is not palindrome\")"
   ]
  },
  {
   "cell_type": "code",
   "execution_count": null,
   "id": "ef7e4c91-03ef-476b-875f-addf13c1687a",
   "metadata": {},
   "outputs": [],
   "source": []
  },
  {
   "cell_type": "markdown",
   "id": "9f49502d-b1cd-4f7a-bd14-514b6351066a",
   "metadata": {},
   "source": [
    "### 3.Convert a string to uppercase."
   ]
  },
  {
   "cell_type": "code",
   "execution_count": 3,
   "id": "6e8cf40a-10f9-4ba2-afcb-dfa145822f8e",
   "metadata": {},
   "outputs": [
    {
     "data": {
      "text/plain": [
       "'AKANKSHA'"
      ]
     },
     "execution_count": 3,
     "metadata": {},
     "output_type": "execute_result"
    }
   ],
   "source": [
    "# enter string:\n",
    "s=\"akanksha\"\n",
    "\n",
    "# convert string to uppercase using upper:\n",
    "s.upper()"
   ]
  },
  {
   "cell_type": "markdown",
   "id": "8b0d1b68-3800-425d-b10b-858bf377e613",
   "metadata": {},
   "source": [
    "### 4.Convert a string to lowercase."
   ]
  },
  {
   "cell_type": "code",
   "execution_count": 4,
   "id": "b2b0d3c2-2a66-49a1-a1f2-ad62325ad2c0",
   "metadata": {},
   "outputs": [
    {
     "data": {
      "text/plain": [
       "'akanksha bhagat'"
      ]
     },
     "execution_count": 4,
     "metadata": {},
     "output_type": "execute_result"
    }
   ],
   "source": [
    "# enter string:\n",
    "s = \"AKANKSHA BHAGAT\"\n",
    "\n",
    "# convert string to lowercase using lower:\n",
    "s.lower()"
   ]
  },
  {
   "cell_type": "markdown",
   "id": "52eed6ef-861a-446e-8a1f-8e9c0a45f004",
   "metadata": {},
   "source": [
    "### 5.Count the number of vowels in a string."
   ]
  },
  {
   "cell_type": "code",
   "execution_count": 5,
   "id": "0977bb74-852d-42dd-80a9-e645971ef952",
   "metadata": {},
   "outputs": [
    {
     "name": "stdout",
     "output_type": "stream",
     "text": [
      "5\n"
     ]
    }
   ],
   "source": [
    "string = \" how are you\"\n",
    "vowels = \"aeiou\"\n",
    "count = sum(string.count(vowel) for vowel in vowels)\n",
    "print(count)"
   ]
  },
  {
   "cell_type": "markdown",
   "id": "68f90d12-7bf8-4413-b39b-c8057c210c18",
   "metadata": {},
   "source": [
    "### 6. count the number of consonants in a string."
   ]
  },
  {
   "cell_type": "code",
   "execution_count": 6,
   "id": "cf400f8e-3d3a-4a7c-b350-69dc90d71459",
   "metadata": {},
   "outputs": [
    {
     "name": "stdout",
     "output_type": "stream",
     "text": [
      "17\n"
     ]
    }
   ],
   "source": [
    "string = \"this is my second assignment\"\n",
    "consonants = \"bcdfghjklmnpqrstvwxyz\"\n",
    "count = sum(string.count(consonant)for consonant in consonants)\n",
    "print(count)"
   ]
  },
  {
   "cell_type": "markdown",
   "id": "8d888062-b7f5-48af-b099-152f73db3592",
   "metadata": {},
   "source": [
    "### 7. Remove all whitespaces from a string."
   ]
  },
  {
   "cell_type": "code",
   "execution_count": 7,
   "id": "9ff4e858-dec2-4fe2-a164-3eb105a1d968",
   "metadata": {},
   "outputs": [
    {
     "name": "stdout",
     "output_type": "stream",
     "text": [
      "original string :  h e l l o \n",
      "output string : hello\n"
     ]
    }
   ],
   "source": [
    "def remove_whitespace(s):\n",
    "    s = \"\". join(s.split(\" \"))\n",
    "    return s\n",
    "s = \" h e l l o \"\n",
    "print(\"original string :\", s)\n",
    "print(\"output string :\", remove_whitespace(s))"
   ]
  },
  {
   "cell_type": "code",
   "execution_count": null,
   "id": "aafd4127-228c-47d7-8484-38058c1bb9ce",
   "metadata": {},
   "outputs": [],
   "source": []
  },
  {
   "cell_type": "markdown",
   "id": "8ee22c54-e6d0-4bbe-80fb-dabac180c4c2",
   "metadata": {},
   "source": [
    "### 8.Find the length of a string without using the 'len()' function."
   ]
  },
  {
   "cell_type": "code",
   "execution_count": 8,
   "id": "d5a6d132-421a-4dcd-850b-d19d3e387fab",
   "metadata": {},
   "outputs": [
    {
     "name": "stdout",
     "output_type": "stream",
     "text": [
      "1\n",
      "2\n",
      "3\n",
      "4\n",
      "5\n",
      "6\n",
      "7\n"
     ]
    }
   ],
   "source": [
    "my_string = \"student\"\n",
    "length = 0\n",
    "for char in my_string:\n",
    "    length += 1\n",
    "    print(length)"
   ]
  },
  {
   "cell_type": "markdown",
   "id": "5dd0f8cd-b60b-4016-92b9-08bd5378942b",
   "metadata": {},
   "source": [
    "### 9.Check if a string contains a specific word."
   ]
  },
  {
   "cell_type": "code",
   "execution_count": 9,
   "id": "3b5dfbe0-45bb-40d1-8555-5c99ef422c97",
   "metadata": {},
   "outputs": [
    {
     "name": "stdout",
     "output_type": "stream",
     "text": [
      "the string contain a specific word\n"
     ]
    }
   ],
   "source": [
    "your_string = \"i love data science\"\n",
    "specific_word = \"love\"\n",
    "if specific_word in your_string:\n",
    "     print(\"the string contain a specific word\")\n",
    "else:\n",
    "     print(\"the string not contain a specific word\")\n",
    "        \n"
   ]
  },
  {
   "cell_type": "markdown",
   "id": "b2c3c300-2284-4058-82f2-dc85b2be8ab6",
   "metadata": {},
   "source": [
    "### 10.Replace a word in a string with another word."
   ]
  },
  {
   "cell_type": "code",
   "execution_count": 10,
   "id": "668b9683-e907-4d88-b678-d80852a8af28",
   "metadata": {},
   "outputs": [
    {
     "name": "stdout",
     "output_type": "stream",
     "text": [
      " i like chocolate \n"
     ]
    }
   ],
   "source": [
    "a = \" i like cake \"\n",
    "b = a.replace(\"cake\",\"chocolate\")\n",
    "print(b)"
   ]
  },
  {
   "cell_type": "markdown",
   "id": "e91844ab-ce60-412e-b3ff-cd5f41d8057b",
   "metadata": {},
   "source": [
    "### 11.Count the occurrences of a word in a string"
   ]
  },
  {
   "cell_type": "code",
   "execution_count": 11,
   "id": "7c84b773-3d6c-4751-bb97-d95d46af7044",
   "metadata": {},
   "outputs": [
    {
     "data": {
      "text/plain": [
       "2"
      ]
     },
     "execution_count": 11,
     "metadata": {},
     "output_type": "execute_result"
    }
   ],
   "source": [
    "s1 = \"yere yere pavsa\"\n",
    "s1.count(\"yere\")"
   ]
  },
  {
   "cell_type": "markdown",
   "id": "d99f7cf6-4c4e-4618-b804-43849f89f1a2",
   "metadata": {},
   "source": [
    "### 12.Find the first occurrence of a word in a string."
   ]
  },
  {
   "cell_type": "code",
   "execution_count": 12,
   "id": "277eb63e-3e9e-4df0-91ad-97fe47037d02",
   "metadata": {},
   "outputs": [
    {
     "name": "stdout",
     "output_type": "stream",
     "text": [
      "0\n"
     ]
    }
   ],
   "source": [
    "my_string = \"hello,hello welcome to my world\"\n",
    "x = my_string.find(\"hello\")\n",
    "print(x)"
   ]
  },
  {
   "cell_type": "markdown",
   "id": "f76c3446-0d50-4b51-a9d4-6f7dd614415f",
   "metadata": {},
   "source": [
    "### 13.Find the last occurrence of a word in a string."
   ]
  },
  {
   "cell_type": "code",
   "execution_count": 13,
   "id": "dba6d903-e823-4bfb-ad03-8071c9c2eedf",
   "metadata": {},
   "outputs": [
    {
     "name": "stdout",
     "output_type": "stream",
     "text": [
      "7\n"
     ]
    }
   ],
   "source": [
    "my_string = \"hello, hello welcome to my world.\"\n",
    "x = my_string.rfind(\"hello\")\n",
    "print(x)\n",
    "\n"
   ]
  },
  {
   "cell_type": "markdown",
   "id": "80a4d7fb-67bc-4dbc-b5e5-ed36e78fa446",
   "metadata": {},
   "source": [
    "### 14.Split a string into a list of words."
   ]
  },
  {
   "cell_type": "code",
   "execution_count": 14,
   "id": "bf47841d-60a0-436e-9f1b-c156fd333812",
   "metadata": {},
   "outputs": [
    {
     "name": "stdout",
     "output_type": "stream",
     "text": [
      "['hello,', 'how', 'are', 'you']\n"
     ]
    }
   ],
   "source": [
    "a = \"hello, how are you\"\n",
    "x = a.split()\n",
    "print(x)"
   ]
  },
  {
   "cell_type": "markdown",
   "id": "f3dc827d-2d1c-4e91-ae39-1b0c5b30bfb9",
   "metadata": {},
   "source": [
    "### 15.Join a list of words into a string. "
   ]
  },
  {
   "cell_type": "code",
   "execution_count": 15,
   "id": "2554f4e9-bb8a-447e-aa60-aeaef4c99214",
   "metadata": {},
   "outputs": [
    {
     "name": "stdout",
     "output_type": "stream",
     "text": [
      "hello, what is your name\n"
     ]
    }
   ],
   "source": [
    "a = 'hello,', 'what', 'is','your', 'name'\n",
    "\n",
    "print(' '.join(a))"
   ]
  },
  {
   "cell_type": "markdown",
   "id": "bc04d08a-061e-480e-9d23-d3e719a54117",
   "metadata": {},
   "source": [
    "### 16.Convert a string where words are separated by spaces to one where words are separated by underscores."
   ]
  },
  {
   "cell_type": "code",
   "execution_count": 16,
   "id": "f61e49e1-e6c1-486a-8a47-4dbd7fa5e8ab",
   "metadata": {},
   "outputs": [
    {
     "name": "stdout",
     "output_type": "stream",
     "text": [
      "hello,_good_morning\n"
     ]
    }
   ],
   "source": [
    "space_string =  \"hello, good morning\"\n",
    "underscore_string = space_string.replace(\" \",\"_\")\n",
    "print(underscore_string)"
   ]
  },
  {
   "cell_type": "markdown",
   "id": "b0283eaa-c01e-4569-9fed-cb91630f9fe7",
   "metadata": {},
   "source": [
    "### 17.Check if a string starts with a specific word or phrase."
   ]
  },
  {
   "cell_type": "code",
   "execution_count": 17,
   "id": "7464c2cd-a2cd-4d38-8af3-3e70bfefc3b6",
   "metadata": {},
   "outputs": [
    {
     "name": "stdout",
     "output_type": "stream",
     "text": [
      "the string startswith (specific_word).\n"
     ]
    }
   ],
   "source": [
    "my_string = \"hello, my name is akanksha\"\n",
    "specific_word = \"hello\"\n",
    "if my_string.startswith(specific_word):\n",
    "    print(f\"the string startswith (specific_word).\")\n",
    "else:\n",
    "     print(f\"the string does not start with(specific_word).\")\n",
    "        "
   ]
  },
  {
   "cell_type": "markdown",
   "id": "0c38a5e3-f532-4f3b-8429-811adfd34998",
   "metadata": {},
   "source": [
    "### 18.Check if a string ends with a specific word or phrase."
   ]
  },
  {
   "cell_type": "code",
   "execution_count": 18,
   "id": "87238383-d99e-4e93-b760-35369633bb7c",
   "metadata": {},
   "outputs": [
    {
     "name": "stdout",
     "output_type": "stream",
     "text": [
      "the string endwith (specific_word)\n"
     ]
    }
   ],
   "source": [
    "my_string = \"hello, my name is gudiya\"\n",
    "specific_word = \"gudiya\"\n",
    "if my_string.endswith(specific_word):\n",
    "    print(\"the string endwith (specific_word)\")\n",
    "else:\n",
    "     print(\"the string does not ends with (specific_word)\")"
   ]
  },
  {
   "cell_type": "markdown",
   "id": "b5209c1a-4b97-4982-a09f-e39785e38da7",
   "metadata": {},
   "source": [
    "### 19.Converts a string to title case (eg,\"hello world\" to \"Hello World\")"
   ]
  },
  {
   "cell_type": "code",
   "execution_count": 19,
   "id": "28dd6422-6957-4332-b093-e64511721b82",
   "metadata": {},
   "outputs": [
    {
     "data": {
      "text/plain": [
       "'My Name Is Akanksha'"
      ]
     },
     "execution_count": 19,
     "metadata": {},
     "output_type": "execute_result"
    }
   ],
   "source": [
    "a1 = \"my name is akanksha\"\n",
    "a1.title()"
   ]
  },
  {
   "cell_type": "markdown",
   "id": "4be58fa3-c369-4cdd-bb7f-62431f28de0e",
   "metadata": {},
   "source": [
    "### 20. Find the longest word in a string."
   ]
  },
  {
   "cell_type": "code",
   "execution_count": 20,
   "id": "729959b3-3b9b-4916-8292-8f7c73d5e25d",
   "metadata": {},
   "outputs": [
    {
     "name": "stdin",
     "output_type": "stream",
     "text": [
      "Enter a string:  python is a programming language\n"
     ]
    },
    {
     "name": "stdout",
     "output_type": "stream",
     "text": [
      "longest word: programming\n"
     ]
    }
   ],
   "source": [
    "string = input(\"Enter a string: \")\n",
    "word_list = string.split()\n",
    "longest_word = max(word_list,key = len)\n",
    "print(\"longest word:\",longest_word)"
   ]
  },
  {
   "cell_type": "markdown",
   "id": "1e16c8bc-a46b-4315-8e36-d9a5d9ce0f0b",
   "metadata": {},
   "source": [
    "### 21.Find the shortest word in a string."
   ]
  },
  {
   "cell_type": "code",
   "execution_count": 21,
   "id": "18ffbc6e-3dc6-43d9-82e3-5dd4bd216c76",
   "metadata": {},
   "outputs": [
    {
     "name": "stdin",
     "output_type": "stream",
     "text": [
      "Enter a string:  python is a programming language\n"
     ]
    },
    {
     "name": "stdout",
     "output_type": "stream",
     "text": [
      "shortest word : a\n"
     ]
    }
   ],
   "source": [
    "string = input(\"Enter a string: \")\n",
    "word_list = string.split()\n",
    "shortest_word = min(word_list,key = len)\n",
    "print(\"shortest word :\",shortest_word)"
   ]
  },
  {
   "cell_type": "markdown",
   "id": "23fcdc78-eaf1-4629-a8d1-9a3257a84d44",
   "metadata": {},
   "source": [
    "### 22.Reverse the order of words in a string."
   ]
  },
  {
   "cell_type": "code",
   "execution_count": 22,
   "id": "537e6ea1-14ba-455e-ace2-1ad6d08058a9",
   "metadata": {},
   "outputs": [
    {
     "name": "stdout",
     "output_type": "stream",
     "text": [
      "emosewa si nohtyp\n"
     ]
    }
   ],
   "source": [
    "string = \"python is awesome\"\n",
    "reversed_string = string[::-1]\n",
    "print(reversed_string)"
   ]
  },
  {
   "cell_type": "markdown",
   "id": "c6cd7f48-a55f-41f4-b214-61d0e4cb5a43",
   "metadata": {},
   "source": [
    "### 23. Check if a string is alphanumeric"
   ]
  },
  {
   "cell_type": "code",
   "execution_count": 23,
   "id": "36880b29-0c5b-465b-b9c2-caceaef349ff",
   "metadata": {},
   "outputs": [
    {
     "name": "stdout",
     "output_type": "stream",
     "text": [
      "the string is alphanumric.\n"
     ]
    }
   ],
   "source": [
    "def is_alphanumric(text):\n",
    "    return text.isalnum()\n",
    "text = \"akanksha12\"\n",
    "result = is_alphanumric(text)\n",
    "if result:\n",
    "    print(\"the string is alphanumric.\")\n",
    "else:\n",
    "     print(\"the string is not alphanumric.\")\n"
   ]
  },
  {
   "cell_type": "markdown",
   "id": "b0c68e34-9912-49a7-b6e6-935d07307467",
   "metadata": {},
   "source": [
    "### 24.Extract all digits from a string."
   ]
  },
  {
   "cell_type": "code",
   "execution_count": 24,
   "id": "f471fdc8-cdd7-41b2-b5f4-21e5a71ebad9",
   "metadata": {},
   "outputs": [
    {
     "name": "stdout",
     "output_type": "stream",
     "text": [
      "1 2 2 "
     ]
    }
   ],
   "source": [
    "string = \"akanksha122\"\n",
    "for i in string:\n",
    "    if (i.isdigit()):\n",
    "        print(i,end = \" \")"
   ]
  },
  {
   "cell_type": "markdown",
   "id": "72e235e3-cdb1-46a7-a705-63853bcda38f",
   "metadata": {},
   "source": [
    "### 25.Extract all alphabets from a string."
   ]
  },
  {
   "cell_type": "code",
   "execution_count": 25,
   "id": "43ca2251-1558-41b0-9489-16c8c5c6c397",
   "metadata": {},
   "outputs": [
    {
     "name": "stdout",
     "output_type": "stream",
     "text": [
      " a\n",
      " ak\n",
      " aka\n",
      " akan\n",
      " akank\n",
      " akanks\n",
      " akanksh\n",
      " akanksha\n"
     ]
    }
   ],
   "source": [
    "string = \"akanksha@123\"\n",
    "res = \" \"\n",
    "for char in string:\n",
    "    if char.isalpha():\n",
    "        res += char\n",
    "        print(res)"
   ]
  },
  {
   "cell_type": "markdown",
   "id": "2f0e60f7-7299-49af-9d14-10a246ed248b",
   "metadata": {},
   "source": [
    "### 26.Count the number of uppercase letters in a string."
   ]
  },
  {
   "cell_type": "code",
   "execution_count": 26,
   "id": "395aae49-0f10-42e8-b4d3-d73b0b89a206",
   "metadata": {},
   "outputs": [
    {
     "name": "stdin",
     "output_type": "stream",
     "text": [
      "enter a string :  AkaNkSha\n"
     ]
    },
    {
     "name": "stdout",
     "output_type": "stream",
     "text": [
      "the number of uupercase LETTERS is \n",
      "1\n",
      "the number of uupercase LETTERS is \n",
      "2\n",
      "the number of uupercase LETTERS is \n",
      "3\n"
     ]
    }
   ],
   "source": [
    "string = input(\"enter a string : \")\n",
    "count=0\n",
    "for i in string :\n",
    "    if(i.isupper()):\n",
    "        count=count+1\n",
    "        print(\"the number of uupercase LETTERS is \")\n",
    "        print(count)\n"
   ]
  },
  {
   "cell_type": "markdown",
   "id": "8a4ee4a3-a619-4cec-9940-b0cf6e0b6d8d",
   "metadata": {},
   "source": [
    "### 27.Count the number of lowercase letters in a string."
   ]
  },
  {
   "cell_type": "code",
   "execution_count": 27,
   "id": "92b03030-eaf2-49ba-a3c0-66f5821cbe0d",
   "metadata": {},
   "outputs": [
    {
     "name": "stdin",
     "output_type": "stream",
     "text": [
      "enter a string: AkAnkSHa\n"
     ]
    },
    {
     "name": "stdout",
     "output_type": "stream",
     "text": [
      "the number of lowercase letters is \n",
      "1\n",
      "the number of lowercase letters is \n",
      "2\n",
      "the number of lowercase letters is \n",
      "3\n",
      "the number of lowercase letters is \n",
      "4\n"
     ]
    }
   ],
   "source": [
    "string = input(\"enter a string:\")\n",
    "count = 0\n",
    "for i in string:\n",
    "    if(i.islower()):\n",
    "        count=count+1\n",
    "        print(\"the number of lowercase letters is \")\n",
    "        print(count)\n",
    "    "
   ]
  },
  {
   "cell_type": "markdown",
   "id": "161fd648-f348-4564-aae3-45c4b8ab8da3",
   "metadata": {},
   "source": [
    "### 28.Swap the case of each charecter in  a string."
   ]
  },
  {
   "cell_type": "code",
   "execution_count": 28,
   "id": "61ade860-7f27-437f-9e90-817ff9223dee",
   "metadata": {},
   "outputs": [
    {
     "name": "stdout",
     "output_type": "stream",
     "text": [
      "hEllO mY NAme IS akankSHA\n"
     ]
    }
   ],
   "source": [
    "string = \"HeLLo My naME is AKANKsha\"\n",
    "x = string.swapcase()\n",
    "print(x)"
   ]
  },
  {
   "cell_type": "markdown",
   "id": "28528bdc-8234-4129-8091-aeeb89601bca",
   "metadata": {},
   "source": [
    "### 29. Remove a specific word from a string."
   ]
  },
  {
   "cell_type": "code",
   "execution_count": 29,
   "id": "ebcb794e-5cfa-46ae-9cfb-85ee6ea80b88",
   "metadata": {},
   "outputs": [
    {
     "name": "stdout",
     "output_type": "stream",
     "text": [
      "a for   and b for ball\n"
     ]
    }
   ],
   "source": [
    "my_string = \"a for apple and b for ball\"\n",
    "specific_word = \"apple\"\n",
    "new_string = my_string.replace(specific_word, \" \")\n",
    "print(new_string)"
   ]
  },
  {
   "cell_type": "markdown",
   "id": "fd160d60-a91c-4cc0-87fc-a7aa63fbb7cb",
   "metadata": {},
   "source": [
    "### 30.Check if a string is a valid email address."
   ]
  },
  {
   "cell_type": "code",
   "execution_count": 30,
   "id": "d65b1c22-17c4-453e-8898-51ee3df6d9f2",
   "metadata": {},
   "outputs": [
    {
     "name": "stdout",
     "output_type": "stream",
     "text": [
      "valid email address\n"
     ]
    }
   ],
   "source": [
    "import re\n",
    "def validate_email(email):\n",
    "    if re.match(r\"[^@]+@[^@]+\\.[^@]+\",email):\n",
    "        return True\n",
    "    return False\n",
    "email = \"example@domain.com\"\n",
    "if validate_email(email):\n",
    "    print(\"valid email address\")\n",
    "    \n",
    "else:\n",
    "        print(\"invalid email address\")"
   ]
  },
  {
   "cell_type": "markdown",
   "id": "ed63141b-eee5-4994-bd07-3e8c538e070d",
   "metadata": {},
   "source": [
    "### 31.Extract the username from an email address string."
   ]
  },
  {
   "cell_type": "code",
   "execution_count": 31,
   "id": "acc012eb-e1d3-4f9b-b85f-d83442449570",
   "metadata": {},
   "outputs": [
    {
     "name": "stdout",
     "output_type": "stream",
     "text": [
      "akanksha\n"
     ]
    }
   ],
   "source": [
    "email = \"akanksha@email.com\"\n",
    "username = email.split('@')[0]\n",
    "print(username)"
   ]
  },
  {
   "cell_type": "markdown",
   "id": "98cbfb37-11ec-435d-92fe-798cb478991c",
   "metadata": {},
   "source": [
    "### 32.Extract the domain name from an email address string"
   ]
  },
  {
   "cell_type": "code",
   "execution_count": 32,
   "id": "ae4077f2-5d99-469b-95e8-624cbdd24bb1",
   "metadata": {},
   "outputs": [
    {
     "name": "stdout",
     "output_type": "stream",
     "text": [
      "email.com\n"
     ]
    }
   ],
   "source": [
    "email = \"akanksha@email.com\"\n",
    "domain = email.split('@')[1]\n",
    "print(domain)"
   ]
  },
  {
   "cell_type": "markdown",
   "id": "eca99274-f7a3-4d57-b9cf-b8f4741e33ae",
   "metadata": {},
   "source": [
    "### 33.Replace multiple spaces in a string with a single space."
   ]
  },
  {
   "cell_type": "code",
   "execution_count": 33,
   "id": "0a923280-d6ce-4442-8d88-cddfa7fb5ea1",
   "metadata": {},
   "outputs": [
    {
     "name": "stdout",
     "output_type": "stream",
     "text": [
      "may god give you that is best for you\n"
     ]
    }
   ],
   "source": [
    "text = \" may    god   give   you   that   is   best   for   you\"\n",
    "cleaned_text = ' '.join(text.split())\n",
    "print(cleaned_text)"
   ]
  },
  {
   "cell_type": "markdown",
   "id": "fb45f300-5d8d-4c70-8a20-a5fd987fb198",
   "metadata": {},
   "source": [
    "### 34.Check if a string is a valid URL"
   ]
  },
  {
   "cell_type": "code",
   "execution_count": 34,
   "id": "a8214edd-9aa3-4014-941b-1e65b33a9dfa",
   "metadata": {},
   "outputs": [
    {
     "name": "stdout",
     "output_type": "stream",
     "text": [
      "True\n",
      "False\n"
     ]
    }
   ],
   "source": [
    "from urllib.parse import urlparse\n",
    "def is_valid_url(url):\n",
    "    try:\n",
    "        result = urlparse(url)\n",
    "        return all([result.scheme, result.netloc])\n",
    "    except ValueError:\n",
    "        return False\n",
    "url1 = \"https://www.akanksha.com\"\n",
    "url2 = \"invalid-url\"\n",
    "result1 = is_valid_url(url1)\n",
    "result2 = is_valid_url(url2)\n",
    "print(result1)\n",
    "print(result2)"
   ]
  },
  {
   "cell_type": "markdown",
   "id": "5de2298e-dfb2-4d3a-bf12-14ad36f6adc9",
   "metadata": {},
   "source": [
    "### 35.Extract the protocol(http or https) from a URL string."
   ]
  },
  {
   "cell_type": "code",
   "execution_count": 35,
   "id": "7f677633-d91f-4601-ae27-43df54f55d65",
   "metadata": {},
   "outputs": [
    {
     "name": "stdout",
     "output_type": "stream",
     "text": [
      "https\n"
     ]
    }
   ],
   "source": [
    "from urllib.parse import urlparse\n",
    "\n",
    "url = \"https://www.pwskills.com\"\n",
    "parsed_url = urlparse(url)\n",
    "\n",
    "protocol = parsed_url.scheme\n",
    "print(protocol)"
   ]
  },
  {
   "cell_type": "markdown",
   "id": "4e481bb2-e0e7-432f-8397-b82f13b291b5",
   "metadata": {},
   "source": [
    "### 36.Find the frequency of each character in a string."
   ]
  },
  {
   "cell_type": "code",
   "execution_count": 36,
   "id": "7b8e7e3f-2c38-4707-9e1b-a0dc446946b4",
   "metadata": {},
   "outputs": [
    {
     "name": "stdout",
     "output_type": "stream",
     "text": [
      "'w':1\n",
      "'w':1\n",
      "'e':1\n",
      "'w':1\n",
      "'e':1\n",
      "'l':1\n",
      "'w':1\n",
      "'e':1\n",
      "'l':2\n",
      "'c':1\n",
      "'w':1\n",
      "'e':1\n",
      "'l':2\n",
      "'c':1\n",
      "'o':1\n",
      "'w':1\n",
      "'e':1\n",
      "'l':2\n",
      "'c':1\n",
      "'o':1\n",
      "'m':1\n"
     ]
    }
   ],
   "source": [
    "string = \"wellcome\"\n",
    "char_freq = {}\n",
    "for char in string:\n",
    "    if char in char_freq:\n",
    "        char_freq[char] += 1\n",
    "    else:\n",
    "        char_freq[char] = 1\n",
    "        for char , freq in char_freq.items():\n",
    "            print(f\"'{char}':{freq}\")"
   ]
  },
  {
   "cell_type": "markdown",
   "id": "5d935193-863b-4ef8-95b4-8121602f05f4",
   "metadata": {},
   "source": [
    "### 37.Remove all punctuation from a string."
   ]
  },
  {
   "cell_type": "code",
   "execution_count": 37,
   "id": "f37833e3-2322-420f-8455-d1dd5a1b5cc8",
   "metadata": {},
   "outputs": [
    {
     "name": "stdout",
     "output_type": "stream",
     "text": [
      "hello good morning\n"
     ]
    }
   ],
   "source": [
    "import string \n",
    "text = \"hello, good morning!\"\n",
    "translator = str.maketrans('','', string.punctuation)\n",
    "cleaned_text = text.translate(translator)\n",
    "print(cleaned_text)"
   ]
  },
  {
   "cell_type": "markdown",
   "id": "8226016d-6f19-4929-bd0d-836eac21f090",
   "metadata": {},
   "source": [
    "### 38.Check if a string contains only digits."
   ]
  },
  {
   "cell_type": "code",
   "execution_count": 38,
   "id": "5ac90da1-b1ba-4fa6-ad5e-68969d10066d",
   "metadata": {},
   "outputs": [
    {
     "name": "stdout",
     "output_type": "stream",
     "text": [
      "string contains only digits\n"
     ]
    }
   ],
   "source": [
    "string = \"12092000\"\n",
    "if string.isdigit():\n",
    "    print(\"string contains only digits\")\n",
    "    \n",
    "else:\n",
    "     print(\"string does not contains digits\")"
   ]
  },
  {
   "cell_type": "markdown",
   "id": "74519255-dc86-4ea0-a649-79d5644e3be4",
   "metadata": {},
   "source": [
    "### 39.Check if a string contains only alphabets."
   ]
  },
  {
   "cell_type": "code",
   "execution_count": 39,
   "id": "bb208571-cae8-4fbb-80fe-9d507d6267b8",
   "metadata": {},
   "outputs": [
    {
     "name": "stdout",
     "output_type": "stream",
     "text": [
      "string contains only alphabets\n"
     ]
    }
   ],
   "source": [
    "string = \"akanksha\"\n",
    "if string.isalpha():\n",
    "    print(\"string contains only alphabets\")\n",
    "    \n",
    "else:\n",
    "    print(\"string does not contains alphabets\")"
   ]
  },
  {
   "cell_type": "markdown",
   "id": "04e7fba2-3a6e-4cc5-8db1-8b6ae33e2d35",
   "metadata": {},
   "source": [
    "### 40.Convert  a string to a list of charecter."
   ]
  },
  {
   "cell_type": "code",
   "execution_count": 40,
   "id": "1922bb62-b2bf-48cf-9b92-d36c6c6bbaae",
   "metadata": {},
   "outputs": [
    {
     "name": "stdout",
     "output_type": "stream",
     "text": [
      "['g', 'o', 'o', 'd']\n"
     ]
    }
   ],
   "source": [
    "input_str = \"good\"\n",
    "char_list = list(input_str)\n",
    "print(char_list)"
   ]
  },
  {
   "cell_type": "markdown",
   "id": "dbe3ccb5-5b3a-425e-be03-c4e2f5def890",
   "metadata": {},
   "source": [
    "### 41.Check if two strings are anagrams."
   ]
  },
  {
   "cell_type": "code",
   "execution_count": 41,
   "id": "08b2735a-08bf-4e5f-b1a3-ae25caa08a34",
   "metadata": {},
   "outputs": [
    {
     "name": "stdout",
     "output_type": "stream",
     "text": [
      "the string are anagrams\n"
     ]
    }
   ],
   "source": [
    "def are_anagrams(str1, str2):\n",
    "    str1 = str1.replace(\" \", \"\").lower()\n",
    "    str2 = str2.replace(\" \" ,\"\").lower()\n",
    "    return sorted(str1) ==sorted(str2)\n",
    "string1 = \"night\"\n",
    "string2 = \"thing\"\n",
    "if are_anagrams(string1,string2):\n",
    "    print(\"the string are anagrams\")\n",
    "else:\n",
    "     print(\"the string are not anagrams\")"
   ]
  },
  {
   "cell_type": "markdown",
   "id": "2bc1b43d-f761-45e7-a31f-748d90c44586",
   "metadata": {},
   "source": [
    "### 44.Find the most frequent word in a string."
   ]
  },
  {
   "cell_type": "code",
   "execution_count": 42,
   "id": "8a5f3e55-bebe-4b73-a7b4-51b83a46b2a1",
   "metadata": {},
   "outputs": [
    {
     "name": "stdout",
     "output_type": "stream",
     "text": [
      "the original list is:[' kgf is best  for fans', 'fans love kgf', 'kgf is best']\n",
      "word with maximum frequency : kgf\n",
      "word with maximum frequency : kgf\n",
      "word with maximum frequency : kgf\n",
      "word with maximum frequency : kgf\n",
      "word with maximum frequency : kgf\n",
      "word with maximum frequency : fans\n",
      "word with maximum frequency : fans\n",
      "word with maximum frequency : kgf\n",
      "word with maximum frequency : kgf\n",
      "word with maximum frequency : kgf\n",
      "word with maximum frequency : kgf\n"
     ]
    }
   ],
   "source": [
    "from collections import defaultdict\n",
    "test_list = [\" kgf is best  for fans\",\"fans love kgf\", \"kgf is best\"]\n",
    "print(\"the original list is:\" + str(test_list))\n",
    "temp = defaultdict(int)\n",
    "for sub in test_list:\n",
    "    for wrd in sub.split():\n",
    "        temp[wrd] += 1\n",
    "        res = max(temp, key = temp.get)\n",
    "        print(\"word with maximum frequency : \" + str(res))"
   ]
  },
  {
   "cell_type": "markdown",
   "id": "a30e6ef8-4f7b-4706-96e8-55dc4b9b17c3",
   "metadata": {},
   "source": [
    "### 45.Find all unique words in a string."
   ]
  },
  {
   "cell_type": "code",
   "execution_count": 43,
   "id": "e60d2019-094b-4696-add0-532040a0864d",
   "metadata": {},
   "outputs": [
    {
     "data": {
      "text/plain": [
       "{'aki', 'hello', 'im'}"
      ]
     },
     "execution_count": 43,
     "metadata": {},
     "output_type": "execute_result"
    }
   ],
   "source": [
    "s1 = {\"hello\", \"hello\", \"hello\", \"im\" ,\"aki\", \"aki\"}\n",
    "s1"
   ]
  },
  {
   "cell_type": "markdown",
   "id": "09b9b530-f8d6-451c-b665-1427660be59d",
   "metadata": {},
   "source": [
    "### 46.count the number of syllables in a string."
   ]
  },
  {
   "cell_type": "code",
   "execution_count": 44,
   "id": "9275aa11-70b7-482c-ac58-31bc9e9b555c",
   "metadata": {},
   "outputs": [
    {
     "name": "stdout",
     "output_type": "stream",
     "text": [
      "'name' has 2 syllables\n",
      "'surname' has 3 syllables\n"
     ]
    }
   ],
   "source": [
    "import re \n",
    "\n",
    "def count_syllables(word):\n",
    "    vowel_groups = re.findall(r'[aeiou]+', word, re.IGNORECASE)\n",
    "    return len(vowel_groups)\n",
    "word1 = \"name\"\n",
    "word2 = \"surname\"\n",
    "\n",
    "syllables1 = count_syllables(word1)\n",
    "syllables2 = count_syllables(word2)\n",
    "\n",
    "print(f\"'{word1}' has {syllables1} syllables\")\n",
    "print(f\"'{word2}' has {syllables2} syllables\")"
   ]
  },
  {
   "cell_type": "markdown",
   "id": "92fb87b7-bf0e-4e71-bbaf-8dbf23b1402f",
   "metadata": {},
   "source": [
    "### 47.Check if a string contains any special charecters."
   ]
  },
  {
   "cell_type": "code",
   "execution_count": 45,
   "id": "b110dee6-aac1-406c-85ec-84ee6bbee508",
   "metadata": {},
   "outputs": [
    {
     "name": "stdout",
     "output_type": "stream",
     "text": [
      "string contains special charecters\n"
     ]
    }
   ],
   "source": [
    "string = \"aki@#ab$%\"\n",
    "if string.isascii():\n",
    "    print(\"string contains special charecters\")\n",
    "else:\n",
    "    print(\"string does not contains special charecters\")"
   ]
  },
  {
   "cell_type": "markdown",
   "id": "9bfd4d57-e783-4140-bc23-16d90e38d854",
   "metadata": {},
   "source": [
    "### 48.Remove the nth word from a string."
   ]
  },
  {
   "cell_type": "code",
   "execution_count": 46,
   "id": "7dd2c853-dcba-4125-89b3-98b8ad59529e",
   "metadata": {},
   "outputs": [
    {
     "name": "stdout",
     "output_type": "stream",
     "text": [
      "the original string is:kgf is for fans\n",
      "the nth word in string:for\n"
     ]
    }
   ],
   "source": [
    "test_str = \"kgf is for fans\"\n",
    "print(\"the original string is:\" + test_str)\n",
    "n = 3\n",
    "res = test_str.split(' ')[n-1]\n",
    "print(\"the nth word in string:\" + res)"
   ]
  },
  {
   "cell_type": "markdown",
   "id": "2e56fdd0-0396-4120-81a6-8d2b810cabb7",
   "metadata": {},
   "source": [
    "### 49.Insert a word at the nth position in a string."
   ]
  },
  {
   "cell_type": "code",
   "execution_count": 47,
   "id": "ccd71c68-6855-494c-b4c2-cfaadd2837a1",
   "metadata": {},
   "outputs": [
    {
     "name": "stdout",
     "output_type": "stream",
     "text": [
      "is newa day one\n"
     ]
    }
   ],
   "source": [
    " def insert_word_at_nth_position(input_string, n,word_to_insert):\n",
    "        first_part = input_string[:n]\n",
    "        second_part = input_string[n:]\n",
    "        \n",
    "        result_string = first_part + word_to_insert + second_part\n",
    "        return result_string\n",
    "    \n",
    "input_string =\"is a day one\"\n",
    "n = 3\n",
    "word_to_insert = \"new\"\n",
    "    \n",
    "result = insert_word_at_nth_position(input_string, n, word_to_insert)\n",
    "print(result)"
   ]
  },
  {
   "cell_type": "markdown",
   "id": "d5904606-0481-4515-9477-e3a97c6545b6",
   "metadata": {},
   "source": [
    "### 50. Convert a CSV string to a list of list"
   ]
  },
  {
   "cell_type": "code",
   "execution_count": 48,
   "id": "66f59f41-b6e4-4807-844e-3f890c66fae3",
   "metadata": {},
   "outputs": [
    {
     "name": "stdout",
     "output_type": "stream",
     "text": [
      "['akanksha', 'bhagat', 'com']\n"
     ]
    }
   ],
   "source": [
    "my_string = 'akanksha,bhagat,com'\n",
    "my_list = my_string.split(',')\n",
    "print(my_list)"
   ]
  },
  {
   "cell_type": "markdown",
   "id": "2e46c973-331e-4549-bff4-30b74c4138e0",
   "metadata": {},
   "source": [
    "# LIST BASED PRACTICE PROBLEM:"
   ]
  },
  {
   "cell_type": "markdown",
   "id": "8fb100ab-3af7-4f32-89f2-ef9c2ccc02b5",
   "metadata": {},
   "source": [
    "### 1. create a list with integers from 1 to 10."
   ]
  },
  {
   "cell_type": "code",
   "execution_count": 49,
   "id": "cb89ab47-fd69-4903-96dd-cac5aab1feab",
   "metadata": {},
   "outputs": [
    {
     "data": {
      "text/plain": [
       "[1, 2, 3, 4, 5, 6, 7, 8, 9, 10]"
      ]
     },
     "execution_count": 49,
     "metadata": {},
     "output_type": "execute_result"
    }
   ],
   "source": [
    "l1 = [1,2,3,4,5,6,7,8,9,10]\n",
    "l1"
   ]
  },
  {
   "cell_type": "markdown",
   "id": "5baf67c9-3de9-4783-810d-5ec556c3f138",
   "metadata": {},
   "source": [
    "### 2.Find the lenght of a list without using the 'len()' function."
   ]
  },
  {
   "cell_type": "code",
   "execution_count": 50,
   "id": "0a169b10-216d-42db-bc9a-2c734f695967",
   "metadata": {},
   "outputs": [
    {
     "name": "stdout",
     "output_type": "stream",
     "text": [
      "1\n",
      "2\n",
      "3\n",
      "4\n",
      "5\n"
     ]
    }
   ],
   "source": [
    "l1 = [1, True, 3, 8.2, 0]\n",
    "length = 0\n",
    "for char in l1:\n",
    "    length += 1\n",
    "    print(length)"
   ]
  },
  {
   "cell_type": "markdown",
   "id": "13cbd15c-8508-45d3-936e-eb30fe6a3b34",
   "metadata": {},
   "source": [
    "### 3.Append an element to the end of a list."
   ]
  },
  {
   "cell_type": "code",
   "execution_count": 51,
   "id": "80e6ed39-0b55-43dc-a98f-668d8a6e4108",
   "metadata": {},
   "outputs": [
    {
     "name": "stdout",
     "output_type": "stream",
     "text": [
      "updated list: [1, 2, 3, 4, 5]\n"
     ]
    }
   ],
   "source": [
    "my_list = [1,2,3,4]\n",
    "append_element = 5\n",
    "my_list.append(append_element)\n",
    "\n",
    "print(\"updated list:\", my_list)"
   ]
  },
  {
   "cell_type": "markdown",
   "id": "7b3d76a8-e8aa-4457-b33f-7b4cbe133e22",
   "metadata": {},
   "source": [
    "### 4. Insert an element at a specific index in a list."
   ]
  },
  {
   "cell_type": "code",
   "execution_count": 52,
   "id": "2b81aef5-bf84-4183-a653-3970d8ee91a8",
   "metadata": {},
   "outputs": [
    {
     "name": "stdout",
     "output_type": "stream",
     "text": [
      "updated list: [1, 2, 'aki', 3, 4, 5, 6]\n"
     ]
    }
   ],
   "source": [
    "my_list = [1,2,3,4,5,6]\n",
    "\n",
    "my_list.insert(2,\"aki\")\n",
    "\n",
    "print(\"updated list:\", my_list)"
   ]
  },
  {
   "cell_type": "markdown",
   "id": "cfb80a30-0ac2-4aeb-9833-176fee9a75af",
   "metadata": {},
   "source": [
    "### 5.Remove an element from a list by its value."
   ]
  },
  {
   "cell_type": "code",
   "execution_count": 53,
   "id": "cad1a5d9-f60d-4803-986e-7ef0827ec857",
   "metadata": {},
   "outputs": [
    {
     "name": "stdout",
     "output_type": "stream",
     "text": [
      "update list : [1, 2, 'city', 22, 220]\n"
     ]
    }
   ],
   "source": [
    "my_list = [ 1, 2, \"city\", \"kite\", 22, 220]\n",
    "\n",
    "my_list.remove('kite')\n",
    "\n",
    "print(\"update list :\", my_list)"
   ]
  },
  {
   "cell_type": "markdown",
   "id": "a0e758f6-d913-4ba1-a60c-ade342197dcf",
   "metadata": {},
   "source": [
    "### 6.Remove an element from a list by its index."
   ]
  },
  {
   "cell_type": "code",
   "execution_count": 54,
   "id": "65d88a84-bd32-4707-a7b3-0353758c010c",
   "metadata": {},
   "outputs": [
    {
     "name": "stdout",
     "output_type": "stream",
     "text": [
      "updated list : [1, 2, 3, 5]\n",
      "remove element : 4\n"
     ]
    }
   ],
   "source": [
    "my_list = [1,2,3,4,5]\n",
    "\n",
    "index_to_remove = 3\n",
    "\n",
    "removed_element = my_list.pop(index_to_remove)\n",
    "\n",
    "print(\"updated list :\", my_list)\n",
    "\n",
    "print(\"remove element :\", removed_element)\n"
   ]
  },
  {
   "cell_type": "markdown",
   "id": "f5cf5282-82af-4c85-b9a8-8c570f02aa32",
   "metadata": {},
   "source": [
    "### 7.Check if an element exists in a list."
   ]
  },
  {
   "cell_type": "code",
   "execution_count": 55,
   "id": "14549a34-febe-478c-b68e-7b37b018e9f9",
   "metadata": {},
   "outputs": [
    {
     "name": "stdout",
     "output_type": "stream",
     "text": [
      "jam exists in the list\n"
     ]
    }
   ],
   "source": [
    "my_list = [1,2,3,'apple',5,\"jam\"]\n",
    "\n",
    "element_to_check = \"jam\"\n",
    "if element_to_check in my_list:\n",
    "    print(f\"{element_to_check} exists in the list\")\n",
    "    \n",
    "else:\n",
    "    print(f\"{element_to_check} does not exist in the list\")"
   ]
  },
  {
   "cell_type": "markdown",
   "id": "5e6a684a-6d93-4b04-b913-04cb9b326303",
   "metadata": {},
   "source": [
    "### 8.Find the index of the first occurrence of an element in a list"
   ]
  },
  {
   "cell_type": "code",
   "execution_count": 56,
   "id": "cf859d14-ab44-43d3-8d91-ba720567950a",
   "metadata": {},
   "outputs": [
    {
     "name": "stdout",
     "output_type": "stream",
     "text": [
      " the index of ball is 1\n"
     ]
    }
   ],
   "source": [
    "my_list = [ \"apple\", 'ball' , 1, 2, 5]\n",
    "\n",
    "element_to_find = \"ball\"\n",
    "\n",
    "index = my_list.index(element_to_find)\n",
    "\n",
    "print(f\" the index of {element_to_find} is {index}\")"
   ]
  },
  {
   "cell_type": "markdown",
   "id": "d49cfd1a-db5e-429d-ba95-8263d09893d9",
   "metadata": {},
   "source": [
    "### 9.Count the occurrences of an element in a list."
   ]
  },
  {
   "cell_type": "code",
   "execution_count": 57,
   "id": "be06ced8-a6d8-4190-babc-aa454de431a3",
   "metadata": {},
   "outputs": [
    {
     "name": "stdout",
     "output_type": "stream",
     "text": [
      " the element 2 occurs 5 times in the list\n"
     ]
    }
   ],
   "source": [
    "my_list = [1,2,3,4,2,2,6,8,5,2,0,8,1,2]\n",
    "\n",
    "element_to_count = 2\n",
    "\n",
    "count = my_list.count(element_to_count)\n",
    "\n",
    "print(f\" the element {element_to_count} occurs {count} times in the list\")\n"
   ]
  },
  {
   "cell_type": "markdown",
   "id": "c94b89a8-c0e2-45ea-b39b-2855f90cfab0",
   "metadata": {},
   "source": [
    "### 10.Reverse the order of elements in a list."
   ]
  },
  {
   "cell_type": "code",
   "execution_count": 58,
   "id": "312cad4c-9ec4-40d3-9c88-797ec27ed790",
   "metadata": {},
   "outputs": [
    {
     "data": {
      "text/plain": [
       "[100, 30, 20, 'yummy', 'cook']"
      ]
     },
     "execution_count": 58,
     "metadata": {},
     "output_type": "execute_result"
    }
   ],
   "source": [
    "l1 = ['cook', 'yummy' , 20 , 30 ,100]\n",
    "l1[::-1]"
   ]
  },
  {
   "cell_type": "markdown",
   "id": "bb49e914-12e5-45be-9b6b-8b5dce9e08b2",
   "metadata": {},
   "source": [
    "### 11.Sort a list in ascending order."
   ]
  },
  {
   "cell_type": "code",
   "execution_count": 59,
   "id": "4743549e-8f8d-449d-adb3-888eb9bcca90",
   "metadata": {},
   "outputs": [
    {
     "name": "stdout",
     "output_type": "stream",
     "text": [
      "sorted list in ascending order: [' ball', 'apple', 'dog', 'zero']\n"
     ]
    }
   ],
   "source": [
    "my_list = [\"apple\",\" ball\" ,\"dog\" ,\"zero\"]\n",
    "\n",
    "my_list.sort()\n",
    "\n",
    "print(\"sorted list in ascending order:\", my_list)\n"
   ]
  },
  {
   "cell_type": "markdown",
   "id": "979ade7d-a1b9-49a4-a14d-ad9bba53626a",
   "metadata": {},
   "source": [
    "### 12. Sort a list in a descending order."
   ]
  },
  {
   "cell_type": "code",
   "execution_count": 60,
   "id": "47f66733-56df-4708-99d3-ba68eb4ba305",
   "metadata": {},
   "outputs": [
    {
     "name": "stdout",
     "output_type": "stream",
     "text": [
      "sorted list in descending order: ['zero', 'dog', 'apple', ' ball']\n"
     ]
    }
   ],
   "source": [
    "my_list = [\"apple\",\" ball\" ,\"dog\" ,\"zero\"]\n",
    "\n",
    "my_list.sort(reverse=True)\n",
    "\n",
    "print(\"sorted list in descending order:\", my_list)\n"
   ]
  },
  {
   "cell_type": "markdown",
   "id": "ecebf083-8a9c-48b2-8f35-12b8d5b8e3ae",
   "metadata": {},
   "source": [
    "### 13. Create a list of even numbers from 1 to 20."
   ]
  },
  {
   "cell_type": "code",
   "execution_count": 61,
   "id": "542dfd2b-7a86-4e71-a9e7-36cc04cd19fb",
   "metadata": {},
   "outputs": [
    {
     "name": "stdout",
     "output_type": "stream",
     "text": [
      "list of even numbers: [2, 4, 6, 8, 10, 12, 14, 16, 18, 20]\n"
     ]
    }
   ],
   "source": [
    "even_numbers = [x for x in range (2 ,21, 2)]\n",
    "\n",
    "print(\"list of even numbers:\", even_numbers)"
   ]
  },
  {
   "cell_type": "markdown",
   "id": "ff317199-699d-4fd0-9902-ae881ffe8bc1",
   "metadata": {},
   "source": [
    "### 14. Create a list of odd numbers from 1 to 20."
   ]
  },
  {
   "cell_type": "code",
   "execution_count": 62,
   "id": "ee854425-06c2-43fa-9f2c-9f8ab29d256d",
   "metadata": {},
   "outputs": [
    {
     "name": "stdout",
     "output_type": "stream",
     "text": [
      "list of odd numbers: [1, 3, 5, 7, 9, 11, 13, 15, 17, 19]\n"
     ]
    }
   ],
   "source": [
    "odd_numbers = [x for x in range (1 ,21,2)]\n",
    "\n",
    "print(\"list of odd numbers:\", odd_numbers)"
   ]
  },
  {
   "cell_type": "markdown",
   "id": "9cdccce8-c23a-4c5c-954a-ba8e824014dd",
   "metadata": {},
   "source": [
    "### 15.Find the sum of all elements in a list. "
   ]
  },
  {
   "cell_type": "code",
   "execution_count": 63,
   "id": "7df91a02-8804-4fcc-a51a-9d6e27930797",
   "metadata": {},
   "outputs": [
    {
     "name": "stdout",
     "output_type": "stream",
     "text": [
      "sum of element: 15\n"
     ]
    }
   ],
   "source": [
    "my_list = [1,2,3,4,5]\n",
    "\n",
    "total_sum = sum(my_list)\n",
    "\n",
    "print(\"sum of element:\" ,total_sum)"
   ]
  },
  {
   "cell_type": "markdown",
   "id": "62705b19-c072-4a2c-8b47-26806b1d9705",
   "metadata": {},
   "source": [
    "### 16.Find the maximum value in a list."
   ]
  },
  {
   "cell_type": "code",
   "execution_count": 64,
   "id": "3b8c85ce-76c3-42d7-a3b8-b66c083517c8",
   "metadata": {},
   "outputs": [
    {
     "name": "stdout",
     "output_type": "stream",
     "text": [
      "maximum value in a list : 45\n"
     ]
    }
   ],
   "source": [
    "my_list = [1,2,3,4,45,5]\n",
    "\n",
    "maximum_value = max(my_list)\n",
    "\n",
    "print(\"maximum value in a list :\", maximum_value)"
   ]
  },
  {
   "cell_type": "markdown",
   "id": "6d73e833-cea4-4196-8aef-b09ef8d448d5",
   "metadata": {},
   "source": [
    "### 17.Find the minimum value in a list."
   ]
  },
  {
   "cell_type": "code",
   "execution_count": 65,
   "id": "9bd751ea-cbe8-420e-baf0-3c193eaee360",
   "metadata": {},
   "outputs": [
    {
     "name": "stdout",
     "output_type": "stream",
     "text": [
      "minimum value in a list : 1\n"
     ]
    }
   ],
   "source": [
    "my_list = [ 1,2,3,4,5,60,]\n",
    "\n",
    "minimum_value = min(my_list)\n",
    "\n",
    "print(\"minimum value in a list :\", minimum_value)"
   ]
  },
  {
   "cell_type": "markdown",
   "id": "477151d2-d25c-473a-8e54-a7ca5768b939",
   "metadata": {},
   "source": [
    "### 18.Create a list of squares of numbers from 1 to 10."
   ]
  },
  {
   "cell_type": "code",
   "execution_count": 69,
   "id": "d8ab0ea2-f674-4d5a-87d0-337262b47ef9",
   "metadata": {},
   "outputs": [
    {
     "name": "stdout",
     "output_type": "stream",
     "text": [
      "list of squares of numbers from 1 to 10:\n",
      "list of squares of numbers from 1 to 10:\n",
      "list of squares of numbers from 1 to 10:\n",
      "list of squares of numbers from 1 to 10:\n",
      "list of squares of numbers from 1 to 10:\n",
      "list of squares of numbers from 1 to 10:\n",
      "list of squares of numbers from 1 to 10:\n",
      "list of squares of numbers from 1 to 10:\n",
      "list of squares of numbers from 1 to 10:\n",
      "list of squares of numbers from 1 to 10:\n",
      "[1, 4, 9, 16, 25, 36, 49, 64, 81, 100]\n"
     ]
    }
   ],
   "source": [
    "l1 = []\n",
    "\n",
    "for i in range(1,11):\n",
    "    l1.append(i*i)\n",
    "    \n",
    "    print(\"list of squares of numbers from 1 to 10:\")\n",
    "print(l1)"
   ]
  },
  {
   "cell_type": "markdown",
   "id": "78e3317c-25b8-439a-8959-6d5885b99260",
   "metadata": {},
   "source": [
    "### 19.Create a list of random numbers."
   ]
  },
  {
   "cell_type": "code",
   "execution_count": 70,
   "id": "0ca4c8b8-dda5-44e0-86c9-b7be4343ec9e",
   "metadata": {},
   "outputs": [
    {
     "name": "stdout",
     "output_type": "stream",
     "text": [
      "list of random integers: [12, 25, 1, 29, 24, 27, 19, 7, 2, 7]\n"
     ]
    }
   ],
   "source": [
    "import random\n",
    "\n",
    "random_integers = [random.randint(1,30) for _ in range(10)]\n",
    "\n",
    "print(\"list of random integers:\", random_integers)"
   ]
  },
  {
   "cell_type": "markdown",
   "id": "ba8e043c-d4b5-4d4a-8891-0d8eb4f7b514",
   "metadata": {},
   "source": [
    "### 20.Remove duplicates from a list."
   ]
  },
  {
   "cell_type": "code",
   "execution_count": 71,
   "id": "f225cc17-c363-4f7a-9769-449c47f02235",
   "metadata": {},
   "outputs": [
    {
     "name": "stdout",
     "output_type": "stream",
     "text": [
      "remove duplicates from a list: [1, 2, 3, 4, 5, 6, 7, 9]\n"
     ]
    }
   ],
   "source": [
    "my_list = [1,2,3,2,4,5,2,6,7,7,2,9]\n",
    "\n",
    "unique_list = list(set(my_list))\n",
    "                   \n",
    "\n",
    "print(\"remove duplicates from a list:\",unique_list)"
   ]
  },
  {
   "cell_type": "markdown",
   "id": "d42cf46b-633e-4898-97e2-266cfe7fc0ad",
   "metadata": {},
   "source": [
    "### 21.Find the common elements betweens two lists."
   ]
  },
  {
   "cell_type": "code",
   "execution_count": 72,
   "id": "d5978749-08d3-49f9-aad9-c775d365ee34",
   "metadata": {},
   "outputs": [
    {
     "name": "stdout",
     "output_type": "stream",
     "text": [
      "[1, 2, 10, 5]\n"
     ]
    }
   ],
   "source": [
    "list1 = [1,2,3,4,5,9,10]\n",
    "\n",
    "list2 = [8,6,2,10,1,5,11]\n",
    "\n",
    "set1 = set(list1)\n",
    "set2 = set(list2)\n",
    "\n",
    "common_elements = set1.intersection(set2)\n",
    "\n",
    "common_elements_list = list(common_elements)\n",
    "\n",
    "print(common_elements_list)"
   ]
  },
  {
   "cell_type": "markdown",
   "id": "5c92d44d-9748-40db-9139-533e5ebd4d11",
   "metadata": {},
   "source": [
    "### 22.Find the difference betweens two list."
   ]
  },
  {
   "cell_type": "code",
   "execution_count": 73,
   "id": "12510b0e-cdb2-41dc-8bab-ae9cfc73dc3d",
   "metadata": {},
   "outputs": [
    {
     "name": "stdout",
     "output_type": "stream",
     "text": [
      "[60, 5]\n"
     ]
    }
   ],
   "source": [
    "list1 = [1,2,3,4,5,60]\n",
    "\n",
    "list2 = [1,2,3,4,510,]\n",
    "\n",
    "set1 = set(list1)\n",
    "set2 = set(list2)\n",
    "\n",
    "difference = set1.difference(set2)\n",
    "\n",
    "difference_list = list(difference)\n",
    "\n",
    "print(difference_list)"
   ]
  },
  {
   "cell_type": "markdown",
   "id": "16b4a55c-4765-430d-b38f-d64fef03fda5",
   "metadata": {},
   "source": [
    "### 23. Merge two lists."
   ]
  },
  {
   "cell_type": "code",
   "execution_count": 74,
   "id": "157b7035-e05d-45b0-8788-be02203b6228",
   "metadata": {},
   "outputs": [
    {
     "name": "stdout",
     "output_type": "stream",
     "text": [
      "merge two list: ['aki', 4, 'job', 3, 5, 'bhagat', 12, 'life', 2000]\n"
     ]
    }
   ],
   "source": [
    "my_list = [ \"aki\", 4, 'job' , 3, 5 ]\n",
    "new_list = ['bhagat' , 12, 'life', 2000]\n",
    "\n",
    "my_list + new_list\n",
    "\n",
    "print(\"merge two list:\",my_list + new_list )"
   ]
  },
  {
   "cell_type": "markdown",
   "id": "c3710510-a737-45fb-9c26-13cf04ba63a1",
   "metadata": {},
   "source": [
    "### 24.Multiply all elements in a list by 2."
   ]
  },
  {
   "cell_type": "code",
   "execution_count": 75,
   "id": "1648266b-08de-4352-9630-03309bcd74d8",
   "metadata": {},
   "outputs": [
    {
     "name": "stdout",
     "output_type": "stream",
     "text": [
      "multiply all elements in a list by 2: [4, 6, 10, 20]\n"
     ]
    }
   ],
   "source": [
    "my_list = [2, 3, 5 ,10 ] \n",
    "new_list =[ x*2 for x in my_list]\n",
    "print(\"multiply all elements in a list by 2:\", new_list)"
   ]
  },
  {
   "cell_type": "markdown",
   "id": "3c442a45-ee78-4c42-86e0-4ccfa1288393",
   "metadata": {},
   "source": [
    "### 25 Filter out all even numbers from a list."
   ]
  },
  {
   "cell_type": "code",
   "execution_count": 76,
   "id": "87ee6555-466f-4aa1-8b4f-3c4929cabfa1",
   "metadata": {},
   "outputs": [
    {
     "name": "stdout",
     "output_type": "stream",
     "text": [
      "odd numbers: [1, 3, 5, 7, 9]\n"
     ]
    }
   ],
   "source": [
    "original_list = [ 1 ,2 ,3,4,5,6,7,8,9,10]\n",
    "filtered_list = [x for x in original_list if x % 2 != 0]\n",
    "\n",
    "print(\"odd numbers:\", filtered_list)\n",
    "\n",
    "# first i take original string has values 1 to 10\n",
    "# then filtered list ,\n",
    "# when we filter list its give odd numbers from list."
   ]
  },
  {
   "cell_type": "markdown",
   "id": "4f9efbf2-7fed-4a6e-b8e9-59812bfb534e",
   "metadata": {},
   "source": [
    "### 26.Convert a list of strings to a list of integers."
   ]
  },
  {
   "cell_type": "code",
   "execution_count": 77,
   "id": "f1667a66-7175-45fb-82b2-96cfce1436c2",
   "metadata": {},
   "outputs": [
    {
     "name": "stdout",
     "output_type": "stream",
     "text": [
      "list of integers: [1, 2, 3, 4, 5]\n"
     ]
    }
   ],
   "source": [
    "string_list = [\"1\" ,\"2\" ,\"3\",\"4\",\"5\"]\n",
    "\n",
    "integer_list = [int(x) for x in string_list]\n",
    "\n",
    "print(\"list of integers:\", integer_list)"
   ]
  },
  {
   "cell_type": "markdown",
   "id": "1a8fabf1-f3b6-448c-8796-a8066dbcf66c",
   "metadata": {},
   "source": [
    "### 27.Convert a list of integers to a list of strings."
   ]
  },
  {
   "cell_type": "code",
   "execution_count": 78,
   "id": "08d00313-f65f-49dc-9fc7-518f44c529d4",
   "metadata": {},
   "outputs": [
    {
     "name": "stdout",
     "output_type": "stream",
     "text": [
      "list of string: ['1', '2', '3', '4', '5']\n"
     ]
    }
   ],
   "source": [
    "integer_list = [1,2,3,4,5]\n",
    "\n",
    "string_list = [str(x) for x in integer_list]\n",
    "\n",
    "print(\"list of string:\", string_list)"
   ]
  },
  {
   "cell_type": "markdown",
   "id": "408e05fe-059f-437b-9b77-4d5776ce329b",
   "metadata": {},
   "source": [
    "### 28.Flatten a nested list."
   ]
  },
  {
   "cell_type": "code",
   "execution_count": 79,
   "id": "f593ee83-1382-4760-94d6-53ef360423e1",
   "metadata": {},
   "outputs": [
    {
     "name": "stdout",
     "output_type": "stream",
     "text": [
      "[1]\n",
      "[1, 2]\n",
      "[1, 2, 4]\n",
      "[1, 2, 4, 4]\n",
      "[1, 2, 4, 4, 5]\n",
      "[1, 2, 4, 4, 5, 6]\n",
      "[1, 2, 4, 4, 5, 6, 7]\n",
      "[1, 2, 4, 4, 5, 6, 7, 8]\n",
      "[1, 2, 4, 4, 5, 6, 7, 8, 9]\n"
     ]
    }
   ],
   "source": [
    "my_list = [[1], [2,4], [4,5,6],[7,8,9]]\n",
    "flat_list =[]\n",
    "for sublist in my_list:\n",
    "    for num in sublist:\n",
    "        flat_list.append(num)\n",
    "        print(flat_list)"
   ]
  },
  {
   "cell_type": "markdown",
   "id": "31709b64-0d1a-45a0-a2ea-ff73928c5609",
   "metadata": {},
   "source": [
    "### 29.Create a list of the first 10 fibonacci numbers."
   ]
  },
  {
   "cell_type": "code",
   "execution_count": 80,
   "id": "9e0acdbe-d198-419b-b556-e4401847a3d8",
   "metadata": {},
   "outputs": [
    {
     "name": "stdout",
     "output_type": "stream",
     "text": [
      "[0, 1, 1]\n",
      "[0, 1, 1, 2]\n",
      "[0, 1, 1, 2, 3]\n",
      "[0, 1, 1, 2, 3, 5]\n",
      "[0, 1, 1, 2, 3, 5, 8]\n",
      "[0, 1, 1, 2, 3, 5, 8, 13]\n",
      "[0, 1, 1, 2, 3, 5, 8, 13, 21]\n",
      "[0, 1, 1, 2, 3, 5, 8, 13, 21, 34]\n"
     ]
    }
   ],
   "source": [
    "fibonacci_list = [0,1]\n",
    "for i in range(2,10):\n",
    "    next_fibonacci = fibonacci_list[i-1] + fibonacci_list[i-2]\n",
    "    fibonacci_list.append(next_fibonacci)\n",
    "    print(fibonacci_list)"
   ]
  },
  {
   "cell_type": "markdown",
   "id": "e977e268-ae13-4611-a55d-15e83ca534e9",
   "metadata": {},
   "source": [
    "### 30.Check if a list is sorted."
   ]
  },
  {
   "cell_type": "code",
   "execution_count": null,
   "id": "5e3515ab-6add-4475-baba-d5f855c17ccb",
   "metadata": {},
   "outputs": [
    {
     "name": "stdout",
     "output_type": "stream",
     "text": [
      "original list : [1, 2, 3, 4, 5]\n"
     ]
    }
   ],
   "source": [
    "my_list = [1,2,3,4,5]\n",
    "print(\"original list : \" + str(my_list))\n",
    "flag = 0\n",
    "i = 1\n",
    "while i < len(my_list):\n",
    "    if (my_list[i]< my_list[i-1]):\n",
    "        flage = 1\n",
    "        i += 1\n",
    "        print(\"yes,list is sorted\")\n",
    "    "
   ]
  },
  {
   "cell_type": "code",
   "execution_count": null,
   "id": "1aa45d95-05d1-4d33-817b-78c8474cf8c2",
   "metadata": {},
   "outputs": [],
   "source": [
    "## NOTE : IN ABOVE QUESTION IM DOT PRINTING THE SORTED LIST BECOUSE WHENEVER I TRY TO DO THAT ITS PRINTED INFINITE TIMES, THAT WHY I GIVEN UR ANSWER BUT NOT PRINTED"
   ]
  },
  {
   "cell_type": "markdown",
   "id": "1f0f1402-c0e0-49bf-9320-c2325f841064",
   "metadata": {},
   "source": [
    "### 31.Rotate a list to the left by 'n' positions."
   ]
  },
  {
   "cell_type": "code",
   "execution_count": 11,
   "id": "1a4752f8-573f-4835-9e76-51bd47581e2c",
   "metadata": {},
   "outputs": [
    {
     "name": "stdout",
     "output_type": "stream",
     "text": [
      "rotated list : [4, 5, 1, 2, 3]\n"
     ]
    }
   ],
   "source": [
    "def rotate_left(lst, n):\n",
    "    n = n % len (lst)\n",
    "    rotated = lst[n:] + lst[:n] \n",
    "    return rotated\n",
    "my_list = [ 1,2,3,4,5]\n",
    "n = 3\n",
    "rotated_list = rotate_left(my_list,n)\n",
    "print(\"rotated list :\", rotated_list)\n"
   ]
  },
  {
   "cell_type": "markdown",
   "id": "885f2d34-b0bb-449b-873d-df7a8c623fae",
   "metadata": {},
   "source": [
    "### 32.Rotate a list to the right by 'n' positions."
   ]
  },
  {
   "cell_type": "code",
   "execution_count": 15,
   "id": "6782ac6e-4502-4837-9ad5-66c638f8c07c",
   "metadata": {},
   "outputs": [
    {
     "name": "stdout",
     "output_type": "stream",
     "text": [
      "rotated list : [3, 4, 5, 1, 2]\n"
     ]
    }
   ],
   "source": [
    "def rotate_right(lst, n):\n",
    "    n = n % len (lst)\n",
    "    rotated = lst[-n:] + lst[:-n] \n",
    "    return rotated\n",
    "my_list = [ 1,2,3,4,5]\n",
    "n = 3\n",
    "rotated_list = rotate_right(my_list,n)\n",
    "print(\"rotated list :\", rotated_list)\n"
   ]
  },
  {
   "cell_type": "markdown",
   "id": "74fdf6e9-7ee3-43fa-a6ae-b35d2c4a6b4e",
   "metadata": {},
   "source": [
    "### 33.Create a list of prime numbers up to 50."
   ]
  },
  {
   "cell_type": "code",
   "execution_count": 14,
   "id": "081218c8-a506-467b-beea-4374112828f3",
   "metadata": {},
   "outputs": [
    {
     "name": "stdout",
     "output_type": "stream",
     "text": [
      "2,3,5,7,11,13,17,19,23,29,31,37,41,43,47,"
     ]
    }
   ],
   "source": [
    "for i in range(2,51):\n",
    "    for j in range(2,51):\n",
    "        if i%j == 0:\n",
    "            break\n",
    "    if i == j:\n",
    "        print(i,end=\",\")\n",
    "        "
   ]
  },
  {
   "cell_type": "markdown",
   "id": "6005d644-e7c1-4bc6-b380-564fbda1a318",
   "metadata": {},
   "source": [
    "### 34.Split a list into chunks of size 'n'."
   ]
  },
  {
   "cell_type": "code",
   "execution_count": 15,
   "id": "af47a783-6c5b-40e0-8ddf-aaf0a81c5a02",
   "metadata": {},
   "outputs": [
    {
     "name": "stdout",
     "output_type": "stream",
     "text": [
      "[0, 1]\n",
      "[2, 3]\n",
      "[4, 5]\n",
      "[6, 7]\n",
      "[8, 9]\n"
     ]
    }
   ],
   "source": [
    "my_list = list(range(10))\n",
    "chunk_size = 2\n",
    "while my_list:\n",
    "    chunk, my_list = my_list[:chunk_size],my_list[chunk_size:]\n",
    "    print(chunk)"
   ]
  },
  {
   "cell_type": "markdown",
   "id": "7923b3ff-dbd5-4e91-96dc-ea36259a2165",
   "metadata": {},
   "source": [
    "### 35.Find the second largest number in a list."
   ]
  },
  {
   "cell_type": "code",
   "execution_count": 20,
   "id": "213de287-733c-47ca-b635-b0f5009c3352",
   "metadata": {},
   "outputs": [
    {
     "name": "stdout",
     "output_type": "stream",
     "text": [
      "10\n"
     ]
    }
   ],
   "source": [
    "def secondmax (arr):\n",
    "    sublist = [x for x in arr if x < max(arr)]\n",
    "    return max(sublist)\n",
    "if __name__ == '__main__' :\n",
    "    arr = [1,5,7,10,20]\n",
    "    print(secondmax(arr))"
   ]
  },
  {
   "cell_type": "markdown",
   "id": "4b03c903-409f-43a9-87b4-48cbc777c769",
   "metadata": {},
   "source": [
    "### 36.Replace every element in a list with its square."
   ]
  },
  {
   "cell_type": "code",
   "execution_count": 6,
   "id": "568e70cc-6153-470d-b276-2611e463862c",
   "metadata": {},
   "outputs": [
    {
     "name": "stdout",
     "output_type": "stream",
     "text": [
      "[1, 4, 9]\n"
     ]
    }
   ],
   "source": [
    "def square_list(list1):\n",
    "    for i in list1:\n",
    "        list1[list1.index(i)] = i**2\n",
    "    print(list1)\n",
    "square_list([1,2,3])"
   ]
  },
  {
   "cell_type": "markdown",
   "id": "8deaa4a3-41d1-4714-bf63-c9e32bfe4b55",
   "metadata": {},
   "source": [
    "### 37.Convert a list to a dictionary where list elements become keys and their indices become values."
   ]
  },
  {
   "cell_type": "code",
   "execution_count": 7,
   "id": "2ce9b77a-570f-4635-9d5a-236cd0854f68",
   "metadata": {},
   "outputs": [
    {
     "name": "stdout",
     "output_type": "stream",
     "text": [
      "converted dictionary : {'apple': 0, 'ball': 1, 'cat': 2, 'dog': 3, 'egg': 4}\n"
     ]
    }
   ],
   "source": [
    "my_list = ['apple' ,'ball' ,'cat' ,'dog','egg']\n",
    "\n",
    "my_dict = {element:index for index, element in enumerate(my_list)}\n",
    "print(\"converted dictionary :\", my_dict)"
   ]
  },
  {
   "cell_type": "markdown",
   "id": "8bd75da8-8bf3-4cf6-906a-f66fcdc8228c",
   "metadata": {},
   "source": [
    "### 38.Shuffle the elements of a list randomly."
   ]
  },
  {
   "cell_type": "code",
   "execution_count": 10,
   "id": "fe4192d7-d54b-44f9-bf2a-927d9044adf0",
   "metadata": {},
   "outputs": [
    {
     "name": "stdout",
     "output_type": "stream",
     "text": [
      "shuffled list : [6, 5, 2, 3, 1, 4, 7]\n"
     ]
    }
   ],
   "source": [
    "import random\n",
    "my_list = [1,2,3,4,5,6,7]\n",
    "random.shuffle(my_list)\n",
    "print(\"shuffled list :\", my_list)\n"
   ]
  },
  {
   "cell_type": "markdown",
   "id": "46f9c983-57f7-4751-8b49-9fdabac2da1d",
   "metadata": {},
   "source": [
    "### 39.Create a list of the first 10 factorial numbers."
   ]
  },
  {
   "cell_type": "code",
   "execution_count": 19,
   "id": "b34f6961-c869-48f4-bd08-f9cfeb6e6bc1",
   "metadata": {},
   "outputs": [
    {
     "name": "stdout",
     "output_type": "stream",
     "text": [
      "list of the first 10 factorial numbers: [1, 1, 2, 6, 24, 120, 720, 5040, 40320, 362880]\n"
     ]
    }
   ],
   "source": [
    "def factorial(n):\n",
    "    if n == 0 or n == 1:\n",
    "        return 1\n",
    "    else:\n",
    "        return n * factorial(n-1)\n",
    "factorial_numbers = [factorial(i) for i in range(10)]\n",
    "print(\"list of the first 10 factorial numbers:\",factorial_numbers)"
   ]
  },
  {
   "cell_type": "markdown",
   "id": "6a7e0dfd-814e-463d-b859-a12e02017001",
   "metadata": {},
   "source": [
    "### 40.Check if two lists have at least one element in common."
   ]
  },
  {
   "cell_type": "code",
   "execution_count": 28,
   "id": "ccf55a31-05a0-45ca-8a0c-002d7912d895",
   "metadata": {},
   "outputs": [
    {
     "name": "stdout",
     "output_type": "stream",
     "text": [
      "the list do not have any common element\n"
     ]
    }
   ],
   "source": [
    "def has_common_element(list1,list2):\n",
    "    for item in list1:\n",
    "        if item in list2:\n",
    "            return True\n",
    "        return False\n",
    "list1 = [1,2,3,45]\n",
    "list2 = [5,6,7,8,9]\n",
    "if has_common_element(list1, list2):\n",
    "    print(\"the lists have at least one common element\")\n",
    "else:\n",
    "    print(\"the list do not have any common element\")"
   ]
  },
  {
   "cell_type": "markdown",
   "id": "943f37ea-e080-4f59-8a9f-efc5b13cbb70",
   "metadata": {},
   "source": [
    "### 41.Remove all elements from a list."
   ]
  },
  {
   "cell_type": "code",
   "execution_count": 34,
   "id": "5ca4240b-c0a4-4411-bd73-2acc9b0a94d0",
   "metadata": {},
   "outputs": [
    {
     "name": "stdout",
     "output_type": "stream",
     "text": [
      "remove all elements from list: []\n"
     ]
    }
   ],
   "source": [
    "my_list = [1,2,3,4,5,6,7]\n",
    "my_list.clear()\n",
    "print(\"remove all elements from list:\", my_list)"
   ]
  },
  {
   "cell_type": "markdown",
   "id": "7b394658-c128-42ba-8067-c23f7ecd5521",
   "metadata": {},
   "source": [
    "### 42.Replace negative numbers in a list with 0."
   ]
  },
  {
   "cell_type": "code",
   "execution_count": 37,
   "id": "4671ede6-1f3e-4eb7-b18d-248b5cf1a117",
   "metadata": {},
   "outputs": [
    {
     "name": "stdout",
     "output_type": "stream",
     "text": [
      "list after replacing negative numbers with 0 : [1, 0, 0, 0, 0]\n"
     ]
    }
   ],
   "source": [
    "my_list = [1,-2,-3,-4,-5]\n",
    "for i in range(len(my_list)):\n",
    "    if my_list[i] < 0:\n",
    "        my_list[i] = 0\n",
    "print(\"list after replacing negative numbers with 0 :\", my_list)\n",
    "       "
   ]
  },
  {
   "cell_type": "markdown",
   "id": "fa07bf66-066e-4229-8eb6-b7474ce18dc5",
   "metadata": {},
   "source": [
    "### 43.Convert a string into a list of words."
   ]
  },
  {
   "cell_type": "code",
   "execution_count": 1,
   "id": "f29cb92f-5caa-4275-953b-c9e75a71dd32",
   "metadata": {},
   "outputs": [
    {
     "name": "stdout",
     "output_type": "stream",
     "text": [
      "string into list of words: ['im', 'coverting', 'string', 'into', 'a', 'list', 'of', 'words']\n"
     ]
    }
   ],
   "source": [
    "my_string = \"im coverting string into a list of words\"\n",
    "new_list = my_string.split()\n",
    "\n",
    "print(\"string into list of words:\", new_list)"
   ]
  },
  {
   "cell_type": "markdown",
   "id": "239636b2-5871-4422-9261-de8b8f3a13e3",
   "metadata": {},
   "source": [
    "### 44.Convert a list of words into  a string."
   ]
  },
  {
   "cell_type": "code",
   "execution_count": 6,
   "id": "8ae7d671-77e6-4efb-a5d7-942932a265fa",
   "metadata": {},
   "outputs": [
    {
     "name": "stdout",
     "output_type": "stream",
     "text": [
      "list of words into a string: im converting list of words into a string\n"
     ]
    }
   ],
   "source": [
    "list_of_words = ['im' , 'converting', 'list', 'of','words','into','a','string']\n",
    "new_string = \" \".join(list_of_words)\n",
    "\n",
    "print(\"list of words into a string:\",new_string)\n"
   ]
  },
  {
   "cell_type": "markdown",
   "id": "8101f71e-d2c9-4ef9-8f16-bc829b054427",
   "metadata": {},
   "source": [
    "### 45.Create a list of the first 'n' powers of 2."
   ]
  },
  {
   "cell_type": "code",
   "execution_count": 12,
   "id": "3fb97c82-8978-4d3e-a49e-5ebda2787a8c",
   "metadata": {},
   "outputs": [
    {
     "name": "stdout",
     "output_type": "stream",
     "text": [
      "enter the total number of terms: \n"
     ]
    },
    {
     "name": "stdin",
     "output_type": "stream",
     "text": [
      " 7\n"
     ]
    },
    {
     "name": "stdout",
     "output_type": "stream",
     "text": [
      " 2 raised to the power 0 is 1\n",
      " 2 raised to the power 1 is 2\n",
      " 2 raised to the power 2 is 4\n",
      " 2 raised to the power 3 is 8\n",
      " 2 raised to the power 4 is 16\n",
      " 2 raised to the power 5 is 32\n",
      " 2 raised to the power 6 is 64\n"
     ]
    }
   ],
   "source": [
    "print(\"enter the total number of terms: \")\n",
    "total = int(input())\n",
    "\n",
    "for i in range (total):\n",
    "    print(\" 2 raised to the power\",i ,\"is\",2 ** i)"
   ]
  },
  {
   "cell_type": "markdown",
   "id": "69c061d4-4da5-4e6d-bac0-e13d86791672",
   "metadata": {},
   "source": [
    "### 46 .Find the longest string in a list of strings."
   ]
  },
  {
   "cell_type": "code",
   "execution_count": 18,
   "id": "ca3b0a09-1e77-4a9e-86b1-0f21d28fdc06",
   "metadata": {},
   "outputs": [
    {
     "name": "stdout",
     "output_type": "stream",
     "text": [
      "the original list:['aki', 'akanksha', 'bhagat', 'chakuli']\n",
      "longest string in a list of string is :akanksha\n"
     ]
    }
   ],
   "source": [
    "my_list = ['aki','akanksha', 'bhagat','chakuli']\n",
    "print(\"the original list:\" + str(my_list))\n",
    "res = max (my_list,key = len)\n",
    "\n",
    "print(\"longest string in a list of string is :\"+ res)"
   ]
  },
  {
   "cell_type": "markdown",
   "id": "29dc7570-ec5e-47dd-a761-3ddb65a41ee6",
   "metadata": {},
   "source": [
    "### 47.Find the shortest string in a list of strings."
   ]
  },
  {
   "cell_type": "code",
   "execution_count": 22,
   "id": "a3e36981-48dd-4872-bf8a-c591225b31c9",
   "metadata": {},
   "outputs": [
    {
     "name": "stdout",
     "output_type": "stream",
     "text": [
      "the original list:['aki', 'akanksha', 'bhagat', 'chakuli']\n",
      "shortest string in a list of string is :aki\n"
     ]
    }
   ],
   "source": [
    "my_list = ['aki','akanksha', 'bhagat','chakuli']\n",
    "print(\"the original list:\" + str(my_list))\n",
    "res = min (my_list,key = len)\n",
    "\n",
    "print(\"shortest string in a list of string is :\"+ res)"
   ]
  },
  {
   "cell_type": "markdown",
   "id": "4f4d0282-d5e7-4a66-9986-9c5bccfae874",
   "metadata": {},
   "source": [
    "### 48. Create a list of the first 'n' triangular numbers."
   ]
  },
  {
   "cell_type": "code",
   "execution_count": 25,
   "id": "87f3c214-f660-471d-9518-ca1cfd34d0cc",
   "metadata": {},
   "outputs": [
    {
     "name": "stdout",
     "output_type": "stream",
     "text": [
      "[1, 3, 6, 10, 15, 21, 28, 36, 45, 55]\n"
     ]
    }
   ],
   "source": [
    "n = 10\n",
    "triangle_nums = []\n",
    "tri_num = 0\n",
    "for i in range (1, n+1):\n",
    "    tri_num += i\n",
    "    triangle_nums.append(tri_num)\n",
    "print(triangle_nums)"
   ]
  },
  {
   "cell_type": "markdown",
   "id": "7b18e7b2-1539-4f8e-88a8-fadc7f7eeb48",
   "metadata": {},
   "source": [
    "### 49 .Check if a list contains another list as a subsequence."
   ]
  },
  {
   "cell_type": "code",
   "execution_count": 40,
   "id": "ab874adf-4f3b-42f7-a934-06cda0383ca1",
   "metadata": {},
   "outputs": [
    {
     "name": "stdout",
     "output_type": "stream",
     "text": [
      "original list:[9, 4, 5, 8, 10]\n",
      "original subsequence list : [10, 5]\n",
      "yes , list contain another list as a subsequence\n"
     ]
    }
   ],
   "source": [
    "my_list = [ 9,4,5,8,10]\n",
    "ur_list = [10,5]\n",
    "print(\"original list:\" + str(my_list))\n",
    "print(\"original subsequence list : \" + str(ur_list))\n",
    "flage = 0\n",
    "if(set(ur_list).issubset(set(my_list))):\n",
    "    flage = 1\n",
    "if (flage):\n",
    "        \n",
    "        print(\"yes , list contain another list as a subsequence\")\n",
    "else:\n",
    "        print(\"no, list does not contain list as a subsequence\")\n"
   ]
  },
  {
   "cell_type": "markdown",
   "id": "cee1ab74-fcce-449f-be30-470cd1ca4a39",
   "metadata": {},
   "source": [
    "### 50. Swap two elements in a list by their indices."
   ]
  },
  {
   "cell_type": "code",
   "execution_count": 41,
   "id": "e3879b2c-175a-495c-b83f-024e961c85fb",
   "metadata": {},
   "outputs": [
    {
     "name": "stdout",
     "output_type": "stream",
     "text": [
      " list after swapping elements: [1, 2, 4, 3, 5, 6, 7]\n"
     ]
    }
   ],
   "source": [
    "my_list = [1,2,3,4,5,6,7]\n",
    "index1 = 2\n",
    "index2 = 3\n",
    "\n",
    "temp = my_list[index1]\n",
    "my_list[index1] = my_list[index2]\n",
    "my_list[index2] = temp\n",
    "\n",
    "print(\" list after swapping elements:\",my_list)"
   ]
  },
  {
   "cell_type": "markdown",
   "id": "d9888c23-9d0d-4895-a5ae-e5674831d44c",
   "metadata": {},
   "source": [
    "## TUPLE BASED PRACTICE PROBLEM:"
   ]
  },
  {
   "cell_type": "markdown",
   "id": "e746699a-e86a-4f6c-acff-a0f04cde4014",
   "metadata": {},
   "source": [
    "### 1.Create a tuple with integers from 1 to 5."
   ]
  },
  {
   "cell_type": "code",
   "execution_count": 5,
   "id": "74c6a095-cfba-46f6-9b43-44f69be4e8e0",
   "metadata": {},
   "outputs": [
    {
     "name": "stdout",
     "output_type": "stream",
     "text": [
      "(1, 2, 3, 4, 5)\n"
     ]
    }
   ],
   "source": [
    "my_tuple = ( 1,2,3,4,5)\n",
    "print(my_tuple)"
   ]
  },
  {
   "cell_type": "markdown",
   "id": "cbe65873-e502-4429-9641-1b9eea80c18e",
   "metadata": {},
   "source": [
    "### 2.Access the third element of a tuple."
   ]
  },
  {
   "cell_type": "code",
   "execution_count": 6,
   "id": "7a06edd3-9ce5-4752-9073-50db0a34bdb9",
   "metadata": {},
   "outputs": [
    {
     "name": "stdout",
     "output_type": "stream",
     "text": [
      " third element of tuple: 3\n"
     ]
    }
   ],
   "source": [
    "my_tuple = (1,2,3,4,5)\n",
    "third_element =my_tuple[2]\n",
    "print(\" third element of tuple:\",third_element)\n"
   ]
  },
  {
   "cell_type": "markdown",
   "id": "d39ce69c-6232-4fc3-be70-c7a1e49008b9",
   "metadata": {},
   "source": [
    "### 3. Find the length of a tuple without using the len() function."
   ]
  },
  {
   "cell_type": "code",
   "execution_count": 3,
   "id": "c45b4eb5-61be-4258-8e9b-96dbe7c6de5f",
   "metadata": {},
   "outputs": [
    {
     "name": "stdout",
     "output_type": "stream",
     "text": [
      "the length of the tuple: 1\n",
      "the length of the tuple: 2\n",
      "the length of the tuple: 3\n",
      "the length of the tuple: 4\n",
      "the length of the tuple: 5\n",
      "the length of the tuple: 6\n",
      "the length of the tuple: 7\n"
     ]
    }
   ],
   "source": [
    "my_tuple = (1,2,3,4,5,6,7)\n",
    "count = 0\n",
    "for _ in my_tuple:\n",
    "    count += 1\n",
    "    print(\"the length of the tuple:\",count)"
   ]
  },
  {
   "cell_type": "markdown",
   "id": "139e0bd9-40bc-4ae9-bbd3-a3fe8ab9b808",
   "metadata": {},
   "source": [
    "### 4.Count the occurrences of an element in tuple."
   ]
  },
  {
   "cell_type": "code",
   "execution_count": 5,
   "id": "53068f6d-bacb-4331-bc3f-889e89d35c40",
   "metadata": {},
   "outputs": [
    {
     "name": "stdout",
     "output_type": "stream",
     "text": [
      "occurrences of element 3 : 3\n"
     ]
    }
   ],
   "source": [
    "my_tuple = (1,2,3,4,3,5,6,7,3)\n",
    "count = my_tuple.count(3)\n",
    "\n",
    "print(\"occurrences of element 3 :\",count)"
   ]
  },
  {
   "cell_type": "markdown",
   "id": "b7d05a01-04b4-4283-8793-01b81978debe",
   "metadata": {},
   "source": [
    "### 5.Find the index of the first occurence of an element in a tuple."
   ]
  },
  {
   "cell_type": "code",
   "execution_count": 7,
   "id": "c91d4920-a107-456a-965c-4fcf9b807bd9",
   "metadata": {},
   "outputs": [
    {
     "name": "stdout",
     "output_type": "stream",
     "text": [
      " the index of 12 is 1\n"
     ]
    }
   ],
   "source": [
    "my_tuple = ('aki' , 12,30, 50,2)\n",
    "element_to_find = 12\n",
    "index = my_tuple.index(element_to_find)\n",
    "\n",
    "print(f\" the index of {element_to_find} is {index}\")"
   ]
  },
  {
   "cell_type": "markdown",
   "id": "2b87f58f-016d-482d-b3ab-e131ffc21887",
   "metadata": {},
   "source": [
    "### 6.Check if an element exists in a tuple."
   ]
  },
  {
   "cell_type": "code",
   "execution_count": 16,
   "id": "ee8a8555-da06-41e6-b374-694514fa5970",
   "metadata": {},
   "outputs": [
    {
     "name": "stdout",
     "output_type": "stream",
     "text": [
      "2 exists in tuple\n"
     ]
    }
   ],
   "source": [
    "my_tuple  = (1,2,3,4,5,6,7)\n",
    "exist_element = 2\n",
    "if exist_element in my_tuple:\n",
    "    print(f\"{exist_element} exists in tuple\")\n",
    "else:\n",
    "    print(f\"{exixt_element}does not exist in tuple\")\n"
   ]
  },
  {
   "cell_type": "markdown",
   "id": "bdbe53a3-480b-460d-875e-3b3ee6d8ebfe",
   "metadata": {},
   "source": [
    "### 7.Convert a tuple to a list."
   ]
  },
  {
   "cell_type": "code",
   "execution_count": 2,
   "id": "f7394717-4dae-44c7-8672-79078c00e602",
   "metadata": {},
   "outputs": [
    {
     "data": {
      "text/plain": [
       "['aki', 'cake', 'name', 16, 2, 2017]"
      ]
     },
     "execution_count": 2,
     "metadata": {},
     "output_type": "execute_result"
    }
   ],
   "source": [
    "my_tuple = ('aki' , 'cake','name', 16, 2, 2017)\n",
    "list(my_tuple)"
   ]
  },
  {
   "cell_type": "markdown",
   "id": "79237607-92af-4ab3-a28e-d44433d02300",
   "metadata": {},
   "source": [
    "### 8.Convert list to a tuple."
   ]
  },
  {
   "cell_type": "code",
   "execution_count": 3,
   "id": "d22fe930-c4e9-4b2a-8db8-9f137c2ac1d5",
   "metadata": {},
   "outputs": [
    {
     "data": {
      "text/plain": [
       "(1, 2, 3, 4, 5)"
      ]
     },
     "execution_count": 3,
     "metadata": {},
     "output_type": "execute_result"
    }
   ],
   "source": [
    "my_list = [ 1,2,3,4,5]\n",
    "tuple(my_list)"
   ]
  },
  {
   "cell_type": "markdown",
   "id": "9ee2e917-4902-493e-a1c6-4a26cd3520bb",
   "metadata": {},
   "source": [
    "### 9.Unpack the elements of a tuple into variables."
   ]
  },
  {
   "cell_type": "code",
   "execution_count": 4,
   "id": "1eff423e-dcf3-4c33-af68-3bf8fad37006",
   "metadata": {},
   "outputs": [
    {
     "name": "stdout",
     "output_type": "stream",
     "text": [
      "variable1: 1\n",
      "variable2: 2\n",
      "variable3: 3\n"
     ]
    }
   ],
   "source": [
    "my_tuple = (1,2,3)\n",
    "variable1, variable2, variable3 = my_tuple\n",
    "\n",
    "print(\"variable1:\",variable1)\n",
    "print(\"variable2:\" , variable2)\n",
    "print(\"variable3:\", variable3)\n",
    "      "
   ]
  },
  {
   "cell_type": "markdown",
   "id": "01c2772c-2686-49c3-83f2-7d89f295f2f9",
   "metadata": {},
   "source": [
    "### 10.Create a tuple of even numbers from 1 to 10."
   ]
  },
  {
   "cell_type": "code",
   "execution_count": 5,
   "id": "cca3eab5-c793-408d-a63a-0b5c8a7d4433",
   "metadata": {},
   "outputs": [
    {
     "name": "stdout",
     "output_type": "stream",
     "text": [
      "tuple of even numbers: (2, 4, 6, 8, 10)\n"
     ]
    }
   ],
   "source": [
    "even_numbers = [num for num in range(2,11,2)]\n",
    "even_numbers = tuple(even_numbers)\n",
    "\n",
    "print(\"tuple of even numbers:\", even_numbers)"
   ]
  },
  {
   "cell_type": "markdown",
   "id": "7a4ca057-8563-44b8-9907-0944bf6b800a",
   "metadata": {},
   "source": [
    "### 11.Create a tuple of odd numbers from 1 to 10"
   ]
  },
  {
   "cell_type": "code",
   "execution_count": 6,
   "id": "3a94757b-dc7f-489e-8bed-b665a92232c4",
   "metadata": {},
   "outputs": [
    {
     "name": "stdout",
     "output_type": "stream",
     "text": [
      "1 3 5 7 9 11 "
     ]
    }
   ],
   "source": [
    "start, end = 1,11\n",
    "for num in range (start,end + 1):\n",
    "    if num % 2 != 0:\n",
    "        print(num,end = \" \")"
   ]
  },
  {
   "cell_type": "markdown",
   "id": "f52dfe1f-14a7-422d-8fd7-fa558491c0be",
   "metadata": {},
   "source": [
    "### 12.Concatenate two tuples."
   ]
  },
  {
   "cell_type": "code",
   "execution_count": 7,
   "id": "3a7d6362-dee9-4f21-9d51-9029a1317fec",
   "metadata": {},
   "outputs": [
    {
     "data": {
      "text/plain": [
       "(1, 2, 3, 4, 5, 6, 'aki', 70, 55)"
      ]
     },
     "execution_count": 7,
     "metadata": {},
     "output_type": "execute_result"
    }
   ],
   "source": [
    "tuple1 = ( 1,2,3,4,5,6)\n",
    "tuple2 = ('aki',70, 55)\n",
    "\n",
    "## concatination:\n",
    "tuple1 + tuple2 "
   ]
  },
  {
   "cell_type": "markdown",
   "id": "61490b59-9496-4a43-b85a-75b0a61af31e",
   "metadata": {},
   "source": [
    "### 13.Repeat a tuple three times."
   ]
  },
  {
   "cell_type": "code",
   "execution_count": 8,
   "id": "051da790-861c-4604-afaf-c460ae9b0e38",
   "metadata": {},
   "outputs": [
    {
     "data": {
      "text/plain": [
       "(1, 2, 3, 4, 5, 1, 2, 3, 4, 5, 1, 2, 3, 4, 5)"
      ]
     },
     "execution_count": 8,
     "metadata": {},
     "output_type": "execute_result"
    }
   ],
   "source": [
    "tuple1 = (1,2,3,4,5)\n",
    "# multiply:\n",
    "tuple1*3"
   ]
  },
  {
   "cell_type": "markdown",
   "id": "795649b1-5972-4b91-999d-33d05e864216",
   "metadata": {},
   "source": [
    "### 14.Check if a tuple is empty."
   ]
  },
  {
   "cell_type": "code",
   "execution_count": 9,
   "id": "5e81301b-f6df-4644-9a7b-f78bba610922",
   "metadata": {},
   "outputs": [
    {
     "name": "stdout",
     "output_type": "stream",
     "text": [
      "the tuple is empty\n"
     ]
    }
   ],
   "source": [
    "empty_tuple1 = ()\n",
    "\n",
    "if not empty_tuple1:\n",
    "    print(\"the tuple is empty\")\n",
    "else:\n",
    "    print(\"the tuple is not empty\")\n",
    "    "
   ]
  },
  {
   "cell_type": "markdown",
   "id": "d38aabe0-b28b-422b-9f1e-f00a622317a0",
   "metadata": {},
   "source": [
    "### 15.Create a nested tuple."
   ]
  },
  {
   "cell_type": "code",
   "execution_count": 10,
   "id": "31ad9c3b-f6a8-4267-aeb7-c7084f32f23b",
   "metadata": {},
   "outputs": [
    {
     "name": "stdout",
     "output_type": "stream",
     "text": [
      "(1, 2, 5)\n",
      "('kaju', 'badam', 'pista')\n",
      "(3.2, 6.5, 1)\n"
     ]
    }
   ],
   "source": [
    "nested_tuple = ((1,2,5),('kaju','badam','pista'), (3.2,6.5,1))\n",
    "\n",
    "print(nested_tuple[0])\n",
    "print(nested_tuple[1])\n",
    "print(nested_tuple[2])\n",
    "      "
   ]
  },
  {
   "cell_type": "markdown",
   "id": "e6c54c83-709c-4091-857a-3b56ec172947",
   "metadata": {},
   "source": [
    "### 16 Access the first element of a nested tuple."
   ]
  },
  {
   "cell_type": "code",
   "execution_count": 11,
   "id": "ad34d642-33ba-44b3-9a89-8a78691a057e",
   "metadata": {},
   "outputs": [
    {
     "name": "stdout",
     "output_type": "stream",
     "text": [
      " first element of nested tuple: (1, 2, 5)\n"
     ]
    }
   ],
   "source": [
    "nested_tuple = ((1,2,5),('kaju','badam','pista'), (3.2,6.5, 1))\n",
    "first_element_nested_tuple = nested_tuple[0]\n",
    "\n",
    "print(\" first element of nested tuple:\",first_element_nested_tuple)"
   ]
  },
  {
   "cell_type": "markdown",
   "id": "03921135-5b2b-403c-9a80-b1ae789921f1",
   "metadata": {},
   "source": [
    "### 17.Create a tuple with a single element."
   ]
  },
  {
   "cell_type": "code",
   "execution_count": 12,
   "id": "3a2accf2-c59c-430b-87d8-3c8a6e0e3568",
   "metadata": {},
   "outputs": [
    {
     "name": "stdout",
     "output_type": "stream",
     "text": [
      "print a single element: 12\n"
     ]
    }
   ],
   "source": [
    "my_tuple = 12\n",
    "print(\"print a single element:\", my_tuple) "
   ]
  },
  {
   "cell_type": "markdown",
   "id": "b22c1bed-1007-41e4-9a74-5768ae59b059",
   "metadata": {},
   "source": [
    "### 18 Compare two tuples."
   ]
  },
  {
   "cell_type": "code",
   "execution_count": 13,
   "id": "b2e6fd74-9f00-425c-a87e-ca462898bead",
   "metadata": {},
   "outputs": [
    {
     "name": "stdout",
     "output_type": "stream",
     "text": [
      "first_tuple is not equal to second_tuple\n"
     ]
    }
   ],
   "source": [
    "first_tuple = ( 5,6,7)\n",
    "second_tuple = (8,9,2)\n",
    "if first_tuple== second_tuple:\n",
    "    print(\"first_tuple is equal to second_tuple\")\n",
    "else:\n",
    "    print(\"first_tuple is not equal to second_tuple\")\n",
    "    "
   ]
  },
  {
   "cell_type": "markdown",
   "id": "2fef2090-d27e-4a57-9e48-35ec022abbec",
   "metadata": {},
   "source": [
    "### 19.delete a tuple."
   ]
  },
  {
   "cell_type": "code",
   "execution_count": 14,
   "id": "97e61bf6-ef72-450c-9faf-faa186d51b14",
   "metadata": {},
   "outputs": [
    {
     "ename": "NameError",
     "evalue": "name 'fisrt_tuple' is not defined",
     "output_type": "error",
     "traceback": [
      "\u001b[0;31m---------------------------------------------------------------------------\u001b[0m",
      "\u001b[0;31mNameError\u001b[0m                                 Traceback (most recent call last)",
      "Cell \u001b[0;32mIn[14], line 2\u001b[0m\n\u001b[1;32m      1\u001b[0m first_tuple  \u001b[38;5;241m=\u001b[39m (\u001b[38;5;241m1\u001b[39m,\u001b[38;5;241m2\u001b[39m,\u001b[38;5;241m3\u001b[39m,\u001b[38;5;241m12\u001b[39m)\n\u001b[0;32m----> 2\u001b[0m \u001b[38;5;28;01mdel\u001b[39;00m fisrt_tuple\n\u001b[1;32m      3\u001b[0m \u001b[38;5;28mprint\u001b[39m(first_tuple)\n\u001b[1;32m      5\u001b[0m \u001b[38;5;66;03m# whenever i try to access deleted element , its gives name error,because tuple no longer exist\u001b[39;00m\n",
      "\u001b[0;31mNameError\u001b[0m: name 'fisrt_tuple' is not defined"
     ]
    }
   ],
   "source": [
    "first_tuple  = (1,2,3,12)\n",
    "del fisrt_tuple\n",
    "print(first_tuple)\n",
    "\n",
    "# whenever i try to access deleted element , its gives name error,because tuple no longer exist"
   ]
  },
  {
   "cell_type": "markdown",
   "id": "2ade05f3-efe1-4f57-9b86-5639d0dbe3db",
   "metadata": {},
   "source": [
    "### 20.  Slice a tuple."
   ]
  },
  {
   "cell_type": "code",
   "execution_count": 15,
   "id": "64b96bbf-8883-4cdd-95f7-bad0cfdd7c78",
   "metadata": {},
   "outputs": [
    {
     "name": "stdout",
     "output_type": "stream",
     "text": [
      "slice a tuple : (4, 5, 6, 7)\n"
     ]
    }
   ],
   "source": [
    "tuple1 = (1,2,3,4,5,6,7,8)\n",
    "slice_tuple = tuple1[3:7]\n",
    "print(\"slice a tuple :\", slice_tuple)"
   ]
  },
  {
   "cell_type": "markdown",
   "id": "e1031a54-39c5-4a64-8f1d-23bc16a6b8f7",
   "metadata": {},
   "source": [
    "### 21.Find the maximun value in a tuple."
   ]
  },
  {
   "cell_type": "code",
   "execution_count": 16,
   "id": "b23775e4-97da-4367-9752-65cdab314bdf",
   "metadata": {},
   "outputs": [
    {
     "name": "stdout",
     "output_type": "stream",
     "text": [
      "maximum value in a tuple : 50\n"
     ]
    }
   ],
   "source": [
    "tuple1 = (1,2,5,8,10,50,4)\n",
    "max_tuple = max(tuple1)\n",
    "print(\"maximum value in a tuple :\",max_tuple)"
   ]
  },
  {
   "cell_type": "markdown",
   "id": "faedcd38-eae8-4d40-af26-a8329309044c",
   "metadata": {},
   "source": [
    "### 22.Find the minimum value in a tuple."
   ]
  },
  {
   "cell_type": "code",
   "execution_count": 17,
   "id": "225a6e09-4f7d-47a1-915e-008071d5cc82",
   "metadata": {},
   "outputs": [
    {
     "name": "stdout",
     "output_type": "stream",
     "text": [
      "minimum value in a tuple : 1\n"
     ]
    }
   ],
   "source": [
    "tuple1 = (1,2,5,8,10,50,4)\n",
    "min_tuple = min(tuple1)\n",
    "print(\"minimum value in a tuple :\",min_tuple)"
   ]
  },
  {
   "cell_type": "markdown",
   "id": "7f3a1c6c-ea95-4bc6-a943-e92a567dfb42",
   "metadata": {},
   "source": [
    "### 23.Convert a string to a tuple of characters."
   ]
  },
  {
   "cell_type": "code",
   "execution_count": 18,
   "id": "281729be-d031-4ebd-91ca-7c2703d5804f",
   "metadata": {},
   "outputs": [
    {
     "name": "stdout",
     "output_type": "stream",
     "text": [
      "string to tuple of charecter: ('a', 'k', 'a', 'n', 'k', 's', 'h', 'a')\n"
     ]
    }
   ],
   "source": [
    "my_str = \"akanksha\"\n",
    "tuple_of_char = tuple(my_str)\n",
    "print(\"string to tuple of charecter:\", tuple_of_char)"
   ]
  },
  {
   "cell_type": "markdown",
   "id": "140bfb0e-ea66-4d12-b539-768e8b574ae0",
   "metadata": {},
   "source": [
    "### 24.Convert a tuple of charecters to a string. "
   ]
  },
  {
   "cell_type": "code",
   "execution_count": 19,
   "id": "9ef20274-6b06-4dd0-ac3f-17fb5b16c99a",
   "metadata": {},
   "outputs": [
    {
     "name": "stdout",
     "output_type": "stream",
     "text": [
      "tuple of charecter to string: akanksha\n"
     ]
    }
   ],
   "source": [
    "tuple_of_char = ('a','k','a','n','k','s','h','a')\n",
    "str_tuple= ''.join(tuple_of_char)\n",
    "\n",
    "print(\"tuple of charecter to string:\", str_tuple)"
   ]
  },
  {
   "cell_type": "markdown",
   "id": "c25cea48-5859-462a-b5b9-7b1d0f15f84a",
   "metadata": {},
   "source": [
    "### 25.Create a tuple from multiple data types."
   ]
  },
  {
   "cell_type": "code",
   "execution_count": 20,
   "id": "9341f683-91fc-4da7-aea1-3020ae497c63",
   "metadata": {},
   "outputs": [
    {
     "name": "stdout",
     "output_type": "stream",
     "text": [
      "('aki', 12, 9.5, 'dj')\n"
     ]
    }
   ],
   "source": [
    "multy_type_tuple = ('aki', 12, 9.5, 'dj')\n",
    "print(multy_type_tuple)"
   ]
  },
  {
   "cell_type": "markdown",
   "id": "5f17708c-8cc7-47b8-94a3-734634121559",
   "metadata": {},
   "source": [
    "### 26.Check if two tuples are identical."
   ]
  },
  {
   "cell_type": "code",
   "execution_count": 21,
   "id": "20beba48-1b00-43f1-8a97-2e2a776358a6",
   "metadata": {},
   "outputs": [
    {
     "name": "stdout",
     "output_type": "stream",
     "text": [
      "YES,its identical\n"
     ]
    }
   ],
   "source": [
    "tuple1 = (5,6,7)\n",
    "tuple2 = (5,6,7)\n",
    "\n",
    "if tuple1 == tuple2:\n",
    "    print(\"YES,its identical\")\n",
    "else: \n",
    "    print(\"NO, its not identical\")\n"
   ]
  },
  {
   "cell_type": "markdown",
   "id": "2be19e45-e930-44db-b378-b190423ad2d0",
   "metadata": {},
   "source": [
    "### 27 Sort the elements of a tuple."
   ]
  },
  {
   "cell_type": "code",
   "execution_count": 22,
   "id": "1691870b-bbc4-4975-9a68-37079e3ffc5b",
   "metadata": {},
   "outputs": [
    {
     "name": "stdout",
     "output_type": "stream",
     "text": [
      "sort elements of tuple: (1, 2, 3, 4, 8, 9, 10)\n"
     ]
    }
   ],
   "source": [
    "my_tuple = (9,4,8,2,3,1,10)\n",
    "\n",
    "sorted_tuple = tuple(sorted(my_tuple))\n",
    "\n",
    "print(\"sort elements of tuple:\", sorted_tuple)"
   ]
  },
  {
   "cell_type": "markdown",
   "id": "9c681529-2d7a-458b-b4a7-6dd2e34b3afb",
   "metadata": {},
   "source": [
    "### 28.Convert a tuple of integers to a tuple of string."
   ]
  },
  {
   "cell_type": "code",
   "execution_count": 23,
   "id": "c1e6b19e-253c-4042-a729-b7664eeed716",
   "metadata": {},
   "outputs": [
    {
     "name": "stdout",
     "output_type": "stream",
     "text": [
      "tuple of int to tuple of string: ('12', '13', '14', '15', '16', '17')\n"
     ]
    }
   ],
   "source": [
    "tuple_of_integers = (12,13,14,15,16,17)\n",
    "tuple_of_string = tuple(str(i) for i in tuple_of_integers)\n",
    "\n",
    "print(\"tuple of int to tuple of string:\", tuple_of_string)"
   ]
  },
  {
   "cell_type": "markdown",
   "id": "533e4695-878f-4a94-9abe-e9aa41b34e79",
   "metadata": {},
   "source": [
    "### 29.Convert a tuple  of strings to a tuple of integers."
   ]
  },
  {
   "cell_type": "code",
   "execution_count": 24,
   "id": "6b46db8d-f2c4-498c-b99c-d73aad8cadd7",
   "metadata": {},
   "outputs": [
    {
     "name": "stdout",
     "output_type": "stream",
     "text": [
      "tuple of string to tuple of integers: (12, 13, 14, 15, 16, 17)\n"
     ]
    }
   ],
   "source": [
    "tuple_of_string = ('12','13','14','15','16','17')\n",
    "tuple_of_integers = tuple(int(i) for i in tuple_of_string)\n",
    "\n",
    "print(\"tuple of string to tuple of integers:\", tuple_of_integer"
   ]
  },
  {
   "cell_type": "markdown",
   "id": "126c7c14-a189-4bad-ad03-6b8718cb9c66",
   "metadata": {},
   "source": [
    "### 30.merge two tuples."
   ]
  },
  {
   "cell_type": "code",
   "execution_count": 26,
   "id": "35f7ada5-724e-4017-aaac-6b48e8d72575",
   "metadata": {},
   "outputs": [
    {
     "name": "stdout",
     "output_type": "stream",
     "text": [
      "merge_two_tuple: ('aki', 'cook', 16, 18, 17)\n"
     ]
    }
   ],
   "source": [
    "tuple1 = ('aki','cook')\n",
    "tuple2 = (16,18,17)\n",
    "\n",
    "merge_two_tuple = tuple1 + tuple2\n",
    "\n",
    "print(\"merge_two_tuple:\", merge_two_tuple)"
   ]
  },
  {
   "cell_type": "markdown",
   "id": "7af1d57a-7839-40de-adab-efc37a10408f",
   "metadata": {},
   "source": [
    "### 31. Flatten a nested tuple."
   ]
  },
  {
   "cell_type": "code",
   "execution_count": 27,
   "id": "747b77d1-c9d4-424b-91b6-8bc3715d728b",
   "metadata": {},
   "outputs": [
    {
     "name": "stdout",
     "output_type": "stream",
     "text": [
      "[1]\n",
      "[1, 2]\n",
      "[1, 2, 2]\n",
      "[1, 2, 2, 4]\n",
      "[1, 2, 2, 4, 10]\n",
      "[1, 2, 2, 4, 10, 11]\n"
     ]
    }
   ],
   "source": [
    "my_list = ((1,2),(2,4),(10,11))\n",
    "flat_list = []\n",
    "for sublist in my_list:\n",
    "    for num in sublist:\n",
    "        flat_list.append(num)\n",
    "        print(flat_list)"
   ]
  },
  {
   "cell_type": "markdown",
   "id": "3d79f981-5c38-4c0d-8a2f-b873571641bb",
   "metadata": {},
   "source": [
    "### 32.Create a tuple of the first 5 prime numbers."
   ]
  },
  {
   "cell_type": "code",
   "execution_count": 30,
   "id": "d52d6e4f-717e-45cc-b13c-f409608dae46",
   "metadata": {
    "colab": {
     "base_uri": "https://localhost:8080/"
    },
    "id": "VRDkDQA2bSii",
    "outputId": "e270b6cf-e7cd-469e-97ac-3b5f0570bc2a"
   },
   "outputs": [
    {
     "name": "stdout",
     "output_type": "stream",
     "text": [
      "Tuple of the first 5 prime numbers: (2, 3, 5, 7, 11)\n"
     ]
    }
   ],
   "source": [
    "def is_prime(num):\n",
    "    if num <= 1:\n",
    "        return False\n",
    "    for i in range(2, int(num ** 0.5) + 1):\n",
    "        if num % i == 0:\n",
    "            return False\n",
    "    return True\n",
    "prime_numbers_list = [num for num in range(2, 100) if is_prime(num)][:5]\n",
    "prime_numbers_tuple = tuple(prime_numbers_list)\n",
    "\n",
    "print(\"Tuple of the first 5 prime numbers:\", prime_numbers_tuple)"
   ]
  },
  {
   "cell_type": "markdown",
   "id": "0e7fd642-0de9-40ac-a88b-f4fdfa446361",
   "metadata": {},
   "source": [
    "### 33.Check if a tuple is a palindrome."
   ]
  },
  {
   "cell_type": "code",
   "execution_count": 32,
   "id": "58729975-c5b7-4344-8349-8c1fa4cdfb0f",
   "metadata": {},
   "outputs": [
    {
     "name": "stdout",
     "output_type": "stream",
     "text": [
      "tuple is palindrome\n"
     ]
    }
   ],
   "source": [
    "def is_palindrome_tuple(my_tuple):\n",
    "    return my_tuple == my_tuple[::-1]\n",
    "my_tuple = (12,13,14,13,12)\n",
    "\n",
    "if is_palindrome_tuple(my_tuple):\n",
    "    print(\"tuple is palindrome\")\n",
    "else:\n",
    "    print(\"tuple is not palindrome\")"
   ]
  },
  {
   "cell_type": "markdown",
   "id": "af34364e-9274-4fd9-9219-240b7c157e95",
   "metadata": {},
   "source": [
    "### 34 .Create a tuple of squares of numbers from 1 to 5."
   ]
  },
  {
   "cell_type": "code",
   "execution_count": 4,
   "id": "70a64692-25fc-499c-9ce3-76bcdd5be2f5",
   "metadata": {},
   "outputs": [
    {
     "name": "stdout",
     "output_type": "stream",
     "text": [
      "(1, 4, 9, 16, 25)\n"
     ]
    }
   ],
   "source": [
    "squares_tuple = (1**2,2**2,3**2,4**2,5**2)\n",
    "print(squares_tuple)"
   ]
  },
  {
   "cell_type": "markdown",
   "id": "9591e8b2-8510-41f9-bf0f-94086af5f27d",
   "metadata": {},
   "source": [
    "### 35 Filter out all even numbers from a tuple."
   ]
  },
  {
   "cell_type": "code",
   "execution_count": 19,
   "id": "2ac7f41a-ed23-4e09-a3e4-6fe15510503d",
   "metadata": {},
   "outputs": [
    {
     "name": "stdout",
     "output_type": "stream",
     "text": [
      "(2, 4, 6, 8, 10)\n"
     ]
    }
   ],
   "source": [
    "original_tuple = (1,2,3,4,5,6,7,8,9,10)\n",
    "filtered_tuple = tuple(num for num in original_tuple if num % 2 == 0)\n",
    "\n",
    "even_numbers_tuple = tuple(filtered_tuple)\n",
    "print(even_numbers_tuple)"
   ]
  },
  {
   "cell_type": "markdown",
   "id": "dc1c7704-4693-4bae-91ec-1d7feff5c18f",
   "metadata": {},
   "source": [
    "### 36. multiply all elements in tuple by 2."
   ]
  },
  {
   "cell_type": "code",
   "execution_count": 25,
   "id": "6f2b2ef0-ab46-46b6-995c-f7f1e795df62",
   "metadata": {},
   "outputs": [
    {
     "name": "stdout",
     "output_type": "stream",
     "text": [
      "(2, 4, 6, 8, 10)\n"
     ]
    }
   ],
   "source": [
    "my_tuple = (1,2,3,4,5)\n",
    "multiply_tuple = (x * 2 for x in my_tuple)\n",
    "multiply_tuple = tuple(multiply_tuple)\n",
    "\n",
    "print(multiply_tuple)"
   ]
  },
  {
   "cell_type": "markdown",
   "id": "1caa476c-c2a6-429f-80f9-ab9133466ba0",
   "metadata": {},
   "source": [
    "### 37.Create a tuple of random numbers."
   ]
  },
  {
   "cell_type": "code",
   "execution_count": 26,
   "id": "7b69483c-5da0-4d51-a982-c5fa4be8bd81",
   "metadata": {},
   "outputs": [
    {
     "name": "stdout",
     "output_type": "stream",
     "text": [
      "random tuple: (28, 2, 12, 7, 19, 8, 18, 16, 9, 20)\n"
     ]
    }
   ],
   "source": [
    "import random\n",
    "random_tuple = tuple(random.randint(1,30) for _ in range (10))\n",
    "\n",
    "print(\"random tuple:\", random_tuple)"
   ]
  },
  {
   "cell_type": "markdown",
   "id": "8c0a4373-a36f-4b53-bbcd-1d33bfb14849",
   "metadata": {},
   "source": [
    "### 38.Check if a tuple is sorted."
   ]
  },
  {
   "cell_type": "code",
   "execution_count": 30,
   "id": "bc16d91d-c346-4a7a-a824-89a097123e97",
   "metadata": {},
   "outputs": [
    {
     "name": "stdout",
     "output_type": "stream",
     "text": [
      "True\n"
     ]
    }
   ],
   "source": [
    "t = (1,2,3,4,5)\n",
    "print(t == tuple(sorted(t)))"
   ]
  },
  {
   "cell_type": "markdown",
   "id": "8eb8dced-afa3-4d7c-ac1c-9f9f6e7dd22b",
   "metadata": {},
   "source": [
    "### 39.Rotate a tuple to the left by 'n' positions."
   ]
  },
  {
   "cell_type": "code",
   "execution_count": 47,
   "id": "ff08dee9-19ea-4709-9463-228d3cd10345",
   "metadata": {
    "colab": {
     "base_uri": "https://localhost:8080/"
    },
    "id": "uejMlLpj7ShG",
    "outputId": "ce1b272c-b7bf-4116-c75d-6c5a7e8ed080"
   },
   "outputs": [
    {
     "name": "stdout",
     "output_type": "stream",
     "text": [
      "(4, 5, 1, 2, 3)\n"
     ]
    }
   ],
   "source": [
    "my_tuple = (1, 2, 3, 4, 5)\n",
    "n_positions = 3\n",
    "result = rotate_tuple_left(my_tuple, n_positions)\n",
    "print(result)"
   ]
  },
  {
   "cell_type": "markdown",
   "id": "c9042f64-bad8-4218-ab37-7f4db963425c",
   "metadata": {},
   "source": [
    "### 40 .rotate a tuple to the right by 'n' positions."
   ]
  },
  {
   "cell_type": "code",
   "execution_count": 48,
   "id": "13ca17ec-057c-4af7-b8cc-368094809e95",
   "metadata": {
    "colab": {
     "base_uri": "https://localhost:8080/"
    },
    "id": "xJ3dNZMw7iVo",
    "outputId": "5d24c9fd-134d-4537-f48c-e65c0f6ee0ac"
   },
   "outputs": [
    {
     "name": "stdout",
     "output_type": "stream",
     "text": [
      "(3, 4, 5, 1, 2)\n"
     ]
    }
   ],
   "source": [
    "my_tuple = (1, 2, 3, 4, 5)\n",
    "n_positions = 3\n",
    "result = rotate_tuple_right(my_tuple, n_positions)\n",
    "print(result)"
   ]
  },
  {
   "cell_type": "markdown",
   "id": "6f1c3371-9ea7-407e-b7a4-0980f6ec5959",
   "metadata": {},
   "source": [
    "### 41.Create a tuple of the first 5 fibonacci numbers."
   ]
  },
  {
   "cell_type": "code",
   "execution_count": 53,
   "id": "41726408-633b-461a-bf76-18ea5c72c86e",
   "metadata": {
    "colab": {
     "base_uri": "https://localhost:8080/"
    },
    "id": "X7dXQVvC8QTC",
    "outputId": "f07f5665-bbbc-481f-e2c4-b79fe78e2066"
   },
   "outputs": [
    {
     "name": "stdout",
     "output_type": "stream",
     "text": [
      "(0, 1, 1, 2, 3)\n"
     ]
    }
   ],
   "source": [
    "def generate_fibonacci(n):\n",
    "    fibonacci = [0, 1]  \n",
    "    while len(fibonacci) < n: \n",
    "        next_number = fibonacci[-1] + fibonacci[-2]  \n",
    "        fibonacci.append(next_number)  \n",
    "    return tuple(fibonacci) \n",
    "\n",
    "fibonacci_tuple = generate_fibonacci(5)\n",
    "\n",
    "\n",
    "print(fibonacci_tuple)"
   ]
  },
  {
   "cell_type": "markdown",
   "id": "03b1e2b6-e8e0-4722-96f1-aa2cd3be98d8",
   "metadata": {},
   "source": [
    "### 42 Create tuple from user input."
   ]
  },
  {
   "cell_type": "code",
   "execution_count": 1,
   "id": "2115db83-74ae-47ff-acc2-d9db3c1816a0",
   "metadata": {
    "colab": {
     "base_uri": "https://localhost:8080/"
    },
    "id": "-mF1Epj684Av",
    "outputId": "bb988aa9-5bfe-4551-92ad-e71050dea291"
   },
   "outputs": [
    {
     "name": "stdin",
     "output_type": "stream",
     "text": [
      "Enter elements separated by commas:  b, h, a, g, a , t,\n"
     ]
    },
    {
     "name": "stdout",
     "output_type": "stream",
     "text": [
      "User input tuple: ('b', ' h', ' a', ' g', ' a ', ' t', '')\n"
     ]
    }
   ],
   "source": [
    "# Taking user input for creating a tuple\n",
    "input_str = input(\"Enter elements separated by commas: \")\n",
    "\n",
    "# Splitting the input string into a list of strings\n",
    "input_list = input_str.split(',')\n",
    "\n",
    "# Converting the list of strings to a tuple\n",
    "user_tuple = tuple(input_list)\n",
    "\n",
    "# Printing the created tuple\n",
    "print(\"User input tuple:\", user_tuple)"
   ]
  },
  {
   "cell_type": "markdown",
   "id": "77d9d6b4-595c-4dac-bf66-d9f2e77de849",
   "metadata": {},
   "source": [
    "### 43.Swap two elements in a tuple."
   ]
  },
  {
   "cell_type": "code",
   "execution_count": 5,
   "id": "d7aa2f61-0687-4fb2-8e95-9d869a53901a",
   "metadata": {
    "colab": {
     "base_uri": "https://localhost:8080/"
    },
    "id": "mjbBK80Q88Ea",
    "outputId": "c7c6d4e4-55ef-4264-b6a8-5dc8789ed9b5"
   },
   "outputs": [
    {
     "name": "stdout",
     "output_type": "stream",
     "text": [
      "Swapped tuple: (4, 2, 8, 6, 1)\n"
     ]
    }
   ],
   "source": [
    "# Create a tuple\n",
    "my_tuple = (4,8,2,6,1)\n",
    "\n",
    "# Swap elements at indices 1 and 3\n",
    "index1 = 1\n",
    "index2 = 2\n",
    "swapped_tuple = tuple(\n",
    "    my_tuple[i] if i not in (index1, index2) else\n",
    "    my_tuple[index2] if i == index1 else\n",
    "    my_tuple[index1]\n",
    "    for i in range(len(my_tuple))\n",
    ")\n",
    "\n",
    "# Print the swapped tuple\n",
    "print(\"Swapped tuple:\", swapped_tuple)"
   ]
  },
  {
   "cell_type": "markdown",
   "id": "dcf021ea-d98b-437d-96d0-151344b668de",
   "metadata": {},
   "source": [
    "### 44.Reverse the elements of a tuple."
   ]
  },
  {
   "cell_type": "code",
   "execution_count": 8,
   "id": "ed76975c-7da1-40ea-ae78-070e534b7ad1",
   "metadata": {},
   "outputs": [
    {
     "name": "stdout",
     "output_type": "stream",
     "text": [
      "reversed element of tuple: (7, 6, 5, 4, 3, 2, 1)\n"
     ]
    }
   ],
   "source": [
    "tuple1 = (1,2,3,4,5,6,7)\n",
    "reversed_tuple1 = tuple1[::-1]\n",
    "print(\"reversed element of tuple:\",reversed_tuple1)"
   ]
  },
  {
   "cell_type": "markdown",
   "id": "cf720d61-92c5-469e-b647-009a17af5f6b",
   "metadata": {},
   "source": [
    "### 45. Create a tuple of the first 'n' powers of 2."
   ]
  },
  {
   "cell_type": "code",
   "execution_count": 12,
   "id": "0045b696-58b7-4f49-9e6e-56320922b3e2",
   "metadata": {
    "colab": {
     "base_uri": "https://localhost:8080/"
    },
    "id": "VF-6y5Es-BWy",
    "outputId": "470bfaa8-c313-4491-9e5d-e1293ce9348d"
   },
   "outputs": [
    {
     "name": "stdout",
     "output_type": "stream",
     "text": [
      "Tuple of the first 10 powers of 2: (1, 2, 4, 8, 16, 32, 64, 128, 256, 512)\n"
     ]
    }
   ],
   "source": [
    "n = 10\n",
    "powers_of_2_tuple = tuple(2 ** i for i in range(n))\n",
    "\n",
    "print(\"Tuple of the first\", n, \"powers of 2:\", powers_of_2_tuple)"
   ]
  },
  {
   "cell_type": "markdown",
   "id": "d298e9f9-1bd3-4f52-bdc0-702b0443a447",
   "metadata": {},
   "source": [
    "### 46.Find the longest string in a tuple of string."
   ]
  },
  {
   "cell_type": "code",
   "execution_count": 14,
   "id": "1138d2aa-2414-42b4-96e2-706f2d869088",
   "metadata": {
    "colab": {
     "base_uri": "https://localhost:8080/"
    },
    "id": "KJhQzMDG-Y0O",
    "outputId": "84217ebe-8e3d-42d2-f1de-7f0448bcd18c"
   },
   "outputs": [
    {
     "name": "stdout",
     "output_type": "stream",
     "text": [
      "Longest string: elephant\n"
     ]
    }
   ],
   "source": [
    "# Create a tuple of strings\n",
    "string_tuple = (\"apple\",\"bat\",\"cow\",\"duck\",\"elephant\")\n",
    "\n",
    "# Find the longest string in the tuple\n",
    "longest_string = max(string_tuple, key=len)\n",
    "\n",
    "# Print the longest string\n",
    "print(\"Longest string:\", longest_string)"
   ]
  },
  {
   "cell_type": "markdown",
   "id": "7c4a7b24-12ed-4c8e-9f56-25a6b05faac2",
   "metadata": {},
   "source": [
    "### 47.Find the shortest string in a tuple of string."
   ]
  },
  {
   "cell_type": "code",
   "execution_count": 15,
   "id": "3c7e6205-09e7-40fe-9d0c-a93712d4f7f5",
   "metadata": {
    "colab": {
     "base_uri": "https://localhost:8080/"
    },
    "id": "KJhQzMDG-Y0O",
    "outputId": "84217ebe-8e3d-42d2-f1de-7f0448bcd18c"
   },
   "outputs": [
    {
     "name": "stdout",
     "output_type": "stream",
     "text": [
      "shortestt string: bat\n"
     ]
    }
   ],
   "source": [
    "# Create a tuple of strings\n",
    "string_tuple = (\"apple\",\"bat\",\"cow\",\"duck\",\"elephant\")\n",
    "\n",
    "# Find the longest string in the tuple\n",
    "shortest_string = min(string_tuple, key=len)\n",
    "\n",
    "# Print the longest string\n",
    "print(\"shortestt string:\", shortest_string)"
   ]
  },
  {
   "cell_type": "markdown",
   "id": "d83260da-cd45-4c6d-89ee-18f490574e89",
   "metadata": {},
   "source": [
    "### 48.Create a tuple of the first 'n' triangular numbers."
   ]
  },
  {
   "cell_type": "code",
   "execution_count": 16,
   "id": "b71ae820-33b1-440c-915c-fd75f5d726d9",
   "metadata": {
    "colab": {
     "base_uri": "https://localhost:8080/"
    },
    "id": "Fjs9tenZ_mY3",
    "outputId": "e4c1aed2-07d5-4f28-9b93-2d9bf4e7acec"
   },
   "outputs": [
    {
     "name": "stdout",
     "output_type": "stream",
     "text": [
      "Tuple of the first 10 triangular numbers: (1, 3, 6, 10, 15, 21, 28, 36, 45, 55)\n"
     ]
    }
   ],
   "source": [
    "n = 10\n",
    "triangular_numbers_tuple = tuple((i * (i + 1)) // 2 for i in range(1, n + 1))\n",
    "\n",
    "print(\"Tuple of the first\", n, \"triangular numbers:\", triangular_numbers_tuple)"
   ]
  },
  {
   "cell_type": "markdown",
   "id": "5e192e74-5369-43ee-a398-dfb4a10e828d",
   "metadata": {},
   "source": [
    "### 49.Check if a tuple contains anaother tuple as a subsequence."
   ]
  },
  {
   "cell_type": "code",
   "execution_count": 28,
   "id": "97bfdbea-82e7-4ccd-b813-714aefdd0b0c",
   "metadata": {
    "colab": {
     "base_uri": "https://localhost:8080/"
    },
    "id": "Q0sFzkTW_tgc",
    "outputId": "7b2f9971-db85-40db-c4d2-262f946d4135"
   },
   "outputs": [
    {
     "name": "stdout",
     "output_type": "stream",
     "text": [
      "Main tuple contains subsequence tuple: True\n"
     ]
    }
   ],
   "source": [
    "def contains_subsequence(main_tuple, sub_tuple):\n",
    "    sub_length = len(sub_tuple)\n",
    "    for i in range(len(main_tuple) - sub_length + 1):\n",
    "        if main_tuple[i:i+sub_length] == sub_tuple:\n",
    "            return True\n",
    "    return False\n",
    "\n",
    "main_tuple = (12,13,14,15,16,17,18)\n",
    "\n",
    "sub_tuple = (13,14, 15)\n",
    "\n",
    "contains_subseq = contains_subsequence(main_tuple, sub_tuple)\n",
    "print(\"Main tuple contains subsequence tuple:\", contains_subseq)"
   ]
  },
  {
   "cell_type": "markdown",
   "id": "cd087b65-e43a-4e19-ae1d-223a1885a697",
   "metadata": {},
   "source": [
    "### 50.Create a tuple of alternating 1s and 0s of length 'n'."
   ]
  },
  {
   "cell_type": "code",
   "execution_count": 30,
   "id": "ac149a33-c586-4d31-bfc8-1d6e42a86175",
   "metadata": {
    "colab": {
     "base_uri": "https://localhost:8080/"
    },
    "id": "N3PQL1u4_-Oq",
    "outputId": "84c475a5-43ce-4e32-a642-3701e8b3a705"
   },
   "outputs": [
    {
     "name": "stdout",
     "output_type": "stream",
     "text": [
      "Tuple of alternating 1s and 0s: (0, 1, 0, 1, 0)\n"
     ]
    }
   ],
   "source": [
    "n = 5\n",
    "alternating_tuple = tuple(i % 2 for i in range(n))\n",
    "\n",
    "print(\"Tuple of alternating 1s and 0s:\", alternating_tuple)"
   ]
  },
  {
   "cell_type": "markdown",
   "id": "a8c5c0af-8935-4dd9-ab65-0962d3353f74",
   "metadata": {},
   "source": [
    "## SET BASED PRACTICE PROBLEM:"
   ]
  },
  {
   "cell_type": "markdown",
   "id": "66cc78ba-af40-4fb9-97bb-ab69657c48ef",
   "metadata": {},
   "source": [
    "### 1.Create a set with integers from 1 to 5."
   ]
  },
  {
   "cell_type": "code",
   "execution_count": 7,
   "id": "1073b21e-1315-404f-8665-dc917e07c4e0",
   "metadata": {},
   "outputs": [
    {
     "name": "stdout",
     "output_type": "stream",
     "text": [
      "int_set: {1, 2, 3, 4, 5}\n"
     ]
    }
   ],
   "source": [
    "int_set = {1,2,3,4,5}\n",
    "\n",
    "print(\"int_set:\", int_set)"
   ]
  },
  {
   "cell_type": "markdown",
   "id": "3c80a76c-b557-44cb-9221-acdc498b8fa5",
   "metadata": {},
   "source": [
    "### 2.Add an element to a set."
   ]
  },
  {
   "cell_type": "code",
   "execution_count": 22,
   "id": "f9aae185-4103-4a80-bb7f-1673539ab3ac",
   "metadata": {},
   "outputs": [
    {
     "name": "stdout",
     "output_type": "stream",
     "text": [
      "{'kiwi', 'cherry', 'banana', 'aplle'}\n"
     ]
    }
   ],
   "source": [
    "set1 = {\"aplle\",\"banana\",\"cherry\"}\n",
    "set1.add(\"kiwi\")\n",
    "print(set1)"
   ]
  },
  {
   "cell_type": "markdown",
   "id": "a1c06b7a-e63d-494c-829e-aa612f698707",
   "metadata": {},
   "source": [
    "### 3.Remove an element from a set."
   ]
  },
  {
   "cell_type": "code",
   "execution_count": 24,
   "id": "8d91071e-58a4-402f-966f-6e765deea19f",
   "metadata": {},
   "outputs": [
    {
     "name": "stdout",
     "output_type": "stream",
     "text": [
      "{'cherry', 'banana', 'apple'}\n"
     ]
    }
   ],
   "source": [
    "set1 = {\"apple\",\"banana\",\"cherry\",\"kiwi\"}\n",
    "set1.remove(\"kiwi\")\n",
    "print(set1)"
   ]
  },
  {
   "cell_type": "markdown",
   "id": "dd8ed61d-8620-45cd-9766-9debac04769b",
   "metadata": {},
   "source": [
    "### 4.Check if an element exists in a set"
   ]
  },
  {
   "cell_type": "code",
   "execution_count": 30,
   "id": "0125aa40-c13b-469b-a0d3-db26b8b71bfb",
   "metadata": {},
   "outputs": [
    {
     "name": "stdout",
     "output_type": "stream",
     "text": [
      "yes' ,'cherry' is in set1\n"
     ]
    }
   ],
   "source": [
    "set1 = {\"apple\",\"banana\",\"cherry\",\"kiwi\"}\n",
    "if \"cherry\" in  set1:\n",
    "    print(\"yes' ,'cherry' is in set1\")\n",
    "else:\n",
    "    print(\"no', 'cherry' is not in set1\")"
   ]
  },
  {
   "cell_type": "markdown",
   "id": "b05ff4ab-a1a3-44c5-a4ec-31c2b21b70d4",
   "metadata": {},
   "source": [
    "### 5.Find the length of a set without using the 'len()' function."
   ]
  },
  {
   "cell_type": "code",
   "execution_count": 36,
   "id": "121173d0-8465-431e-a5b7-2186269e1f83",
   "metadata": {},
   "outputs": [
    {
     "name": "stdout",
     "output_type": "stream",
     "text": [
      "length of set: 5\n"
     ]
    }
   ],
   "source": [
    "set1 = {1,2,3,4,5}\n",
    "count = 0\n",
    "for i in set1:\n",
    "    count+=1\n",
    "print(\"length of set:\", count)"
   ]
  },
  {
   "cell_type": "markdown",
   "id": "681f3c46-7c10-4c12-a3e9-d2bcaa7b00c5",
   "metadata": {},
   "source": [
    "### 6.Clear all elements from a set."
   ]
  },
  {
   "cell_type": "code",
   "execution_count": 37,
   "id": "5add4ce7-d208-4245-9653-04da7dfb8a89",
   "metadata": {},
   "outputs": [
    {
     "name": "stdout",
     "output_type": "stream",
     "text": [
      "set after clearing: set()\n"
     ]
    }
   ],
   "source": [
    "set1 = {1,2,3,4,5,6}\n",
    "set1.clear()\n",
    "print(\"set after clearing:\",set1)"
   ]
  },
  {
   "cell_type": "markdown",
   "id": "6c377f9e-8e7b-43d2-a647-82febefbe38f",
   "metadata": {},
   "source": [
    "### 7.Create a set  of even numbers from 1 to 10."
   ]
  },
  {
   "cell_type": "code",
   "execution_count": 39,
   "id": "d0852d4d-24f9-4e00-956b-d17e27cf9e6b",
   "metadata": {},
   "outputs": [
    {
     "name": "stdout",
     "output_type": "stream",
     "text": [
      "{2, 4, 6, 8, 10}\n"
     ]
    }
   ],
   "source": [
    "even_numbers = {x for x in range(1,11) if x % 2 ==0 }\n",
    "print(even_numbers)"
   ]
  },
  {
   "cell_type": "markdown",
   "id": "14a67b9a-023b-4927-92b3-8be6d2eb6c26",
   "metadata": {},
   "source": [
    "### 8 Create a set of odd numbers from 1 to 10."
   ]
  },
  {
   "cell_type": "code",
   "execution_count": 5,
   "id": "2bb4dd45-7bce-4918-91fb-26a811665920",
   "metadata": {},
   "outputs": [
    {
     "name": "stdout",
     "output_type": "stream",
     "text": [
      "{1, 3, 5, 7, 9}\n"
     ]
    }
   ],
   "source": [
    "odd_numbers = {x for x in range(1,11) if x % 2 !=0 }\n",
    "print(odd_numbers)"
   ]
  },
  {
   "cell_type": "markdown",
   "id": "3a56d2d1-b39c-4476-bee3-7e1917f744c1",
   "metadata": {},
   "source": [
    "### 9.Find the union of two sets."
   ]
  },
  {
   "cell_type": "code",
   "execution_count": 6,
   "id": "cc819d44-a510-4ecc-a172-84b835980ea7",
   "metadata": {},
   "outputs": [
    {
     "name": "stdout",
     "output_type": "stream",
     "text": [
      "union of two sets: {1, 2, 3, 4, 5, 6, 7}\n"
     ]
    }
   ],
   "source": [
    "set1 = {1,2,3}\n",
    "set2 = {4,5,6,7}\n",
    "union = set1.union(set2)\n",
    "print(\"union of two sets:\",union)"
   ]
  },
  {
   "cell_type": "markdown",
   "id": "1565cc43-decc-4217-a730-71afde2c2ed2",
   "metadata": {},
   "source": [
    "### 10. Find the  intersection of two sets."
   ]
  },
  {
   "cell_type": "code",
   "execution_count": 10,
   "id": "1ad83e86-d97b-4472-9d77-43f5cb756669",
   "metadata": {},
   "outputs": [
    {
     "name": "stdout",
     "output_type": "stream",
     "text": [
      "intersection of two sets: {4}\n"
     ]
    }
   ],
   "source": [
    "set1 = {1,2,3,4}\n",
    "set2 = {4,5,6,7}\n",
    "intersection = set1.intersection(set2)\n",
    "print(\"intersection of two sets:\", intersection)"
   ]
  },
  {
   "cell_type": "markdown",
   "id": "0a7c9abb-261a-4c4b-a92f-e6f464453d12",
   "metadata": {},
   "source": [
    "### 11.Find the difference between two sets."
   ]
  },
  {
   "cell_type": "code",
   "execution_count": 13,
   "id": "7236e215-8d19-45b6-8c37-7a30ac7dabce",
   "metadata": {},
   "outputs": [
    {
     "name": "stdout",
     "output_type": "stream",
     "text": [
      "difference of two sets: {1, 2, 3}\n"
     ]
    }
   ],
   "source": [
    "set1 = {1,2,3,4}\n",
    "set2 = {4,5,6,7}\n",
    "difference = set1.difference(set2)\n",
    "print(\"difference of two sets:\",difference )"
   ]
  },
  {
   "cell_type": "markdown",
   "id": "2c610597-86a2-42af-83ff-2ceb35660a6d",
   "metadata": {},
   "source": [
    "### 12.Check if a set is a subset of another set."
   ]
  },
  {
   "cell_type": "code",
   "execution_count": 17,
   "id": "1f8756f1-3c66-4e79-a002-8e6195f5b654",
   "metadata": {},
   "outputs": [
    {
     "name": "stdout",
     "output_type": "stream",
     "text": [
      "set1 is subset of set2 : True\n"
     ]
    }
   ],
   "source": [
    "set1  = {1,2,3,4}\n",
    "set2 = {1,2,3,4,5,6,7}\n",
    "subset = set1.issubset(set2)\n",
    "\n",
    "print(\"set1 is subset of set2 :\", subset)"
   ]
  },
  {
   "cell_type": "markdown",
   "id": "54be3b8d-896f-49e8-b862-94197614b92b",
   "metadata": {},
   "source": [
    "### 13.Check if a set is a superset of another set."
   ]
  },
  {
   "cell_type": "code",
   "execution_count": 19,
   "id": "62e0e6ba-3cdb-4dcd-8d40-9400ac517ffa",
   "metadata": {},
   "outputs": [
    {
     "name": "stdout",
     "output_type": "stream",
     "text": [
      "set1 is superset of set2 : True\n"
     ]
    }
   ],
   "source": [
    "set1 = {1,2,3,4,5,6}\n",
    "set2 = {1,2}\n",
    "superset = set1.issuperset(set2)\n",
    "\n",
    "print(\"set1 is superset of set2 :\",superset)\n"
   ]
  },
  {
   "cell_type": "markdown",
   "id": "fc443bd9-98ed-4012-84c7-166060526776",
   "metadata": {},
   "source": [
    "### 14.create a set from a list."
   ]
  },
  {
   "cell_type": "code",
   "execution_count": 25,
   "id": "4b09eacd-3fb2-457f-8551-b38bce630dde",
   "metadata": {},
   "outputs": [
    {
     "data": {
      "text/plain": [
       "{1, 2, 3, 4, 5}"
      ]
     },
     "execution_count": 25,
     "metadata": {},
     "output_type": "execute_result"
    }
   ],
   "source": [
    "my_list = [1,2,3,4,5]\n",
    "\n",
    "set(my_list)"
   ]
  },
  {
   "cell_type": "markdown",
   "id": "0d0bbebb-d2fa-4bbc-9be2-69585211a017",
   "metadata": {},
   "source": [
    "### 15.Convert a set to a list."
   ]
  },
  {
   "cell_type": "code",
   "execution_count": 26,
   "id": "e9843795-fcad-4a2c-aead-578ef25c4e0a",
   "metadata": {},
   "outputs": [
    {
     "data": {
      "text/plain": [
       "[1, 2, 3, 4, 5]"
      ]
     },
     "execution_count": 26,
     "metadata": {},
     "output_type": "execute_result"
    }
   ],
   "source": [
    "my_set = {1,2,3,4,5}\n",
    "list(my_set)"
   ]
  },
  {
   "cell_type": "markdown",
   "id": "08b5190a-b217-403c-9f81-8e5580d1fb67",
   "metadata": {},
   "source": [
    "### 16.Remove a random element from a set."
   ]
  },
  {
   "cell_type": "code",
   "execution_count": 30,
   "id": "fc32b6e2-c6cf-4a44-9cef-db55e6de88ad",
   "metadata": {
    "colab": {
     "base_uri": "https://localhost:8080/"
    },
    "id": "8H_b7KCIYipP",
    "outputId": "ac8048fd-0102-47c4-f8df-1cb009ba2582"
   },
   "outputs": [
    {
     "name": "stdout",
     "output_type": "stream",
     "text": [
      "Original set: {1, 2, 3, 4, 5}\n",
      "Updated set after removing 2 : {1, 3, 4, 5}\n"
     ]
    }
   ],
   "source": [
    "import random \n",
    "my_set = {1, 2, 3, 4, 5}\n",
    "\n",
    "print(\"Original set:\", my_set)\n",
    "\n",
    "random_element = random.choice(list(my_set))\n",
    "my_set.remove(random_element)\n",
    "\n",
    "print(\"Updated set after removing\", random_element, \":\", my_set)"
   ]
  },
  {
   "cell_type": "markdown",
   "id": "3148e425-1b29-4cb7-87d8-8bf212945d6c",
   "metadata": {},
   "source": [
    "### 17.pop an element from a set."
   ]
  },
  {
   "cell_type": "code",
   "execution_count": 29,
   "id": "b90ca58f-727a-4ed3-9cb0-0b920cb03061",
   "metadata": {},
   "outputs": [
    {
     "name": "stdout",
     "output_type": "stream",
     "text": [
      " remove element:1\n",
      "update set: {2, 3, 4, 5, 6}\n"
     ]
    }
   ],
   "source": [
    "my_set = {1,2,3,4,5,6}\n",
    "removed_element = my_set.pop()\n",
    "print(f\" remove element:{removed_element}\")\n",
    "print(f\"update set: {my_set}\")"
   ]
  },
  {
   "cell_type": "markdown",
   "id": "f2a7769d-6f99-4b90-8469-17928d7654fb",
   "metadata": {},
   "source": [
    "### 18.Check if two sets have no elements in common."
   ]
  },
  {
   "cell_type": "code",
   "execution_count": 37,
   "id": "33337c0f-1a2e-466b-92b2-6f883dabddf6",
   "metadata": {},
   "outputs": [
    {
     "name": "stdout",
     "output_type": "stream",
     "text": [
      "two sets have common element\n"
     ]
    }
   ],
   "source": [
    "set1 = {1,2,3,4,5}\n",
    "set2 = {3,4,5,6,7}\n",
    "common_element= set1.intersection(set2)\n",
    "if not common_element:\n",
    "   print(\"two sets have no element in common\")\n",
    "else:\n",
    "    print(\"two sets have common element\")"
   ]
  },
  {
   "cell_type": "markdown",
   "id": "f172338c-15a5-4004-a502-f4ad9a34b697",
   "metadata": {},
   "source": [
    "### 19.Find the symmetric difference between two sets."
   ]
  },
  {
   "cell_type": "code",
   "execution_count": 38,
   "id": "219e26b9-86f5-4522-9641-0ceec88de329",
   "metadata": {},
   "outputs": [
    {
     "name": "stdout",
     "output_type": "stream",
     "text": [
      "{1, 2, 5, 6, 7}\n"
     ]
    }
   ],
   "source": [
    "set1 = {1,2,3,4}\n",
    "set2 = {3,4,5,6,7}\n",
    "result = set1.symmetric_difference(set2)\n",
    "print(result)"
   ]
  },
  {
   "cell_type": "markdown",
   "id": "a0f7f9e5-759a-447e-af6f-6d226d599976",
   "metadata": {},
   "source": [
    "### 20.Update a set with elements from another set."
   ]
  },
  {
   "cell_type": "code",
   "execution_count": 2,
   "id": "515f2375-5949-4e6e-a7d1-fb39692c44ea",
   "metadata": {
    "colab": {
     "base_uri": "https://localhost:8080/"
    },
    "id": "az_qRREeYidY",
    "outputId": "8810db3c-22fc-4a24-d08b-67957002650d"
   },
   "outputs": [
    {
     "name": "stdout",
     "output_type": "stream",
     "text": [
      "Updated Set 1: {1, 2, 3, 4, 5, 6, 7, 8}\n"
     ]
    }
   ],
   "source": [
    "set1 = {1, 2, 3,4,5}\n",
    "set2 = {3, 4, 5,6,7,8}\n",
    "set1.update(set2)\n",
    "print(\"Updated Set 1:\", set1)"
   ]
  },
  {
   "cell_type": "markdown",
   "id": "a2753f3d-996b-4cee-85bc-56aa904f51fc",
   "metadata": {},
   "source": [
    "### 21.Create a set of the first 5 prime numbers."
   ]
  },
  {
   "cell_type": "code",
   "execution_count": 7,
   "id": "24dc7788-f4da-4cd4-a0a7-642d7406cdf1",
   "metadata": {
    "colab": {
     "base_uri": "https://localhost:8080/"
    },
    "id": "iD2gtfocYiaa",
    "outputId": "1798b52b-73ed-417b-8b33-b8eabde6bfda"
   },
   "outputs": [
    {
     "name": "stdout",
     "output_type": "stream",
     "text": [
      "Set of the first 5 prime numbers: {2, 3, 5, 7, 11}\n"
     ]
    }
   ],
   "source": [
    "def is_prime(num):\n",
    "    if num <= 1:\n",
    "        return False\n",
    "    for i in range(2, int(num ** 0.5) + 1):\n",
    "        if num % i == 0:\n",
    "            return False\n",
    "    return True\n",
    "\n",
    "prime_set = set()\n",
    "num = 2\n",
    "while len(prime_set) < 5: \n",
    "    if is_prime(num):\n",
    "        \n",
    "        prime_set.add(num)\n",
    "    num += 1\n",
    "\n",
    "print(\"Set of the first 5 prime numbers:\", prime_set)"
   ]
  },
  {
   "cell_type": "markdown",
   "id": "2266555d-5c8a-4eec-b2c2-af490e02ee80",
   "metadata": {},
   "source": [
    "### 22.Check if two sets are identical."
   ]
  },
  {
   "cell_type": "code",
   "execution_count": 10,
   "id": "50e6a501-310c-4470-94e6-d3293c5d0a09",
   "metadata": {},
   "outputs": [
    {
     "name": "stdout",
     "output_type": "stream",
     "text": [
      "two sets are identical\n"
     ]
    }
   ],
   "source": [
    "set1 = {1,2,3,4}\n",
    "set2 = {1,2,3,4}\n",
    "\n",
    "if set1 == set2:\n",
    "    print(\"two sets are identical\")\n",
    "else:\n",
    "    print(\"two sest are not identical\")\n",
    "    "
   ]
  },
  {
   "cell_type": "markdown",
   "id": "f465aad0-02ba-4edd-8c3f-a51c8ea25f4f",
   "metadata": {},
   "source": [
    "### 23.Create a frozen set."
   ]
  },
  {
   "cell_type": "code",
   "execution_count": 11,
   "id": "f0836ada-cc56-4abb-bec4-89319c48aee0",
   "metadata": {},
   "outputs": [
    {
     "name": "stdout",
     "output_type": "stream",
     "text": [
      "original set: {1, 2, 3, 4, 5}\n",
      "frozen set : frozenset({1, 2, 3, 4, 5})\n"
     ]
    }
   ],
   "source": [
    "my_set = {1,2,3,4,5}\n",
    "frozen_set = frozenset(my_set)\n",
    "\n",
    "print(\"original set:\",my_set)\n",
    "print(\"frozen set :\", frozen_set)"
   ]
  },
  {
   "cell_type": "markdown",
   "id": "22e7c806-3783-4fb5-9751-d0e8f932e82f",
   "metadata": {},
   "source": [
    "### 24.Check if a set is disjoint with another set."
   ]
  },
  {
   "cell_type": "code",
   "execution_count": 15,
   "id": "3732d307-a6c2-4287-96b0-b5bcb7d1ca23",
   "metadata": {},
   "outputs": [
    {
     "name": "stdout",
     "output_type": "stream",
     "text": [
      "set is not disjoint with another set\n"
     ]
    }
   ],
   "source": [
    "set1 = {1,2,3,4}\n",
    "set2 = {2,3,4,5,6}\n",
    "\n",
    "disjoint_set = set1.isdisjoint(set2)\n",
    "if  disjoint_set:\n",
    "    print(\"set is disjoint with another set\")\n",
    "else:\n",
    "    print(\"set is not disjoint with another set\")"
   ]
  },
  {
   "cell_type": "markdown",
   "id": "9ca66287-fbb0-4fea-9550-b5321139b282",
   "metadata": {},
   "source": [
    "### 25.Create a set of squares of numbers from 1 to 5."
   ]
  },
  {
   "cell_type": "code",
   "execution_count": 18,
   "id": "f807c3fc-151c-4ba0-ae8e-58c83d83259c",
   "metadata": {
    "colab": {
     "base_uri": "https://localhost:8080/"
    },
    "id": "1OXTOon5YiO7",
    "outputId": "6157f10f-1730-438e-af4f-5170cb7eba2c"
   },
   "outputs": [
    {
     "name": "stdout",
     "output_type": "stream",
     "text": [
      "{1, 4, 9, 16, 25}\n"
     ]
    }
   ],
   "source": [
    "squares_set = set()\n",
    "\n",
    "for num in range(1, 6):\n",
    "    square = num ** 2\n",
    "    squares_set.add(square)\n",
    "\n",
    "print(squares_set)"
   ]
  },
  {
   "cell_type": "markdown",
   "id": "d353f293-9197-467b-bf7b-509d9c066329",
   "metadata": {},
   "source": [
    "### 26.Filter out all even numbers from a set."
   ]
  },
  {
   "cell_type": "code",
   "execution_count": 21,
   "id": "432ae998-076c-4545-ae5e-b00ffe4db5d3",
   "metadata": {
    "colab": {
     "base_uri": "https://localhost:8080/"
    },
    "id": "FW6izDjfYiL7",
    "outputId": "8d85d855-4313-40b3-85fd-85d875aa89dd"
   },
   "outputs": [
    {
     "name": "stdout",
     "output_type": "stream",
     "text": [
      "Original Set: {1, 2, 3, 4, 5, 6, 7, 8, 9, 10}\n",
      "Even Numbers Set: {2, 4, 6, 8, 10}\n"
     ]
    }
   ],
   "source": [
    "original_set = {1, 2, 3, 4, 5 , 6, 7, 8, 9,10}\n",
    "even_numbers_set = set()\n",
    "\n",
    "for num in original_set:\n",
    "    if num % 2 == 0:\n",
    "        even_numbers_set.add(num)\n",
    "\n",
    "print(\"Original Set:\", original_set)\n",
    "print(\"Even Numbers Set:\", even_numbers_set)"
   ]
  },
  {
   "cell_type": "markdown",
   "id": "0eb0a597-2993-45f5-89f3-bd84fe676d2b",
   "metadata": {},
   "source": [
    "### 27.Multiply all elements in a set by 2."
   ]
  },
  {
   "cell_type": "code",
   "execution_count": 23,
   "id": "5393b643-88d0-4d61-9942-4b432f07c045",
   "metadata": {
    "colab": {
     "base_uri": "https://localhost:8080/"
    },
    "id": "Czs215VlYiJA",
    "outputId": "653080aa-b98b-450a-da59-97d5ac5863e9"
   },
   "outputs": [
    {
     "name": "stdout",
     "output_type": "stream",
     "text": [
      "Original Set: {1, 2, 3, 4, 5, 6, 7, 8, 9, 10}\n",
      "Multiplied Set: {2, 4, 6, 8, 10, 12, 14, 16, 18, 20}\n"
     ]
    }
   ],
   "source": [
    "original_set = {1,2 ,3,4,5,6,7,8,9,10}\n",
    "multiplied_set = set()\n",
    "\n",
    "for num in original_set:\n",
    "    \n",
    "    multiplied_num = num * 2\n",
    "    multiplied_set.add(multiplied_num)\n",
    "print(\"Original Set:\", original_set)\n",
    "\n",
    "print(\"Multiplied Set:\", multiplied_set)"
   ]
  },
  {
   "cell_type": "markdown",
   "id": "ac60758f-cf37-43a7-ae08-fb9c3be1e137",
   "metadata": {},
   "source": [
    "### 28.Create a set  of random numbers."
   ]
  },
  {
   "cell_type": "code",
   "execution_count": 26,
   "id": "2609f903-8e7d-4f91-9525-c2869555dade",
   "metadata": {
    "colab": {
     "base_uri": "https://localhost:8080/"
    },
    "id": "y0GmtDPVYiGA",
    "outputId": "d97bd173-e1ba-441c-db46-995c85a49102"
   },
   "outputs": [
    {
     "name": "stdout",
     "output_type": "stream",
     "text": [
      "Generated set of random numbers: {5, 8, 11, 13, 26, 27, 28}\n"
     ]
    }
   ],
   "source": [
    "import random\n",
    "num_random_numbers = 7\n",
    "\n",
    "random_number_set = set()\n",
    "\n",
    "for _ in range(num_random_numbers):\n",
    "    \n",
    "    random_num = random.randint(1, 30)\n",
    "    \n",
    "    random_number_set.add(random_num)\n",
    "    \n",
    "print(\"Generated set of random numbers:\", random_number_set)"
   ]
  },
  {
   "cell_type": "markdown",
   "id": "e2109de9-c4eb-4a90-b3cb-791482165dda",
   "metadata": {},
   "source": [
    "### 29.Check if a set is empty."
   ]
  },
  {
   "cell_type": "code",
   "execution_count": 29,
   "id": "80ba2e3d-4f87-4b9b-b5cf-f4fc4d739109",
   "metadata": {
    "colab": {
     "base_uri": "https://localhost:8080/"
    },
    "id": "q5q3NMeEYiC4",
    "outputId": "d44e8d7f-5403-416c-ca89-c4b6d6554cbc"
   },
   "outputs": [
    {
     "name": "stdout",
     "output_type": "stream",
     "text": [
      "The set is empty.\n"
     ]
    }
   ],
   "source": [
    "my_set = set()\n",
    "if not my_set:\n",
    "    print(\"The set is empty.\")\n",
    "else:\n",
    "    print(\"The set is not empty.\")"
   ]
  },
  {
   "cell_type": "markdown",
   "id": "c3e12bd4-77bc-413f-a6e7-08bd5053c583",
   "metadata": {},
   "source": [
    "### 30.Create a nested set (hint: use frozenset)."
   ]
  },
  {
   "cell_type": "code",
   "execution_count": 2,
   "id": "8753ed8e-994a-41c5-ba61-7d71a7bd6d8d",
   "metadata": {},
   "outputs": [
    {
     "name": "stdout",
     "output_type": "stream",
     "text": [
      "nested set : {frozenset({1, 2, 3, 4}), frozenset({8, 5, 6, 7})}\n"
     ]
    }
   ],
   "source": [
    "set1 = frozenset({1,2,3,4})\n",
    "set2 = frozenset({5,6,7,8})\n",
    "nested_set = {set1, set2 }\n",
    "print(\"nested set :\",nested_set)"
   ]
  },
  {
   "cell_type": "markdown",
   "id": "0c5e67e4-8407-4dab-823f-857cff4e045c",
   "metadata": {},
   "source": [
    "### 31 .Remove an element from a set using the discard method."
   ]
  },
  {
   "cell_type": "code",
   "execution_count": 5,
   "id": "ac400d31-f06d-472e-8372-68416f57dfc2",
   "metadata": {},
   "outputs": [
    {
     "name": "stdout",
     "output_type": "stream",
     "text": [
      "update set: {1, 2, 3, 4, 6, 7}\n"
     ]
    }
   ],
   "source": [
    "my_set = {1,2,3,4,5,6,7}\n",
    "my_set.discard(5)\n",
    "print(\"update set:\", my_set)"
   ]
  },
  {
   "cell_type": "markdown",
   "id": "e0c3f479-0671-4a0d-8ecb-7875e6988dbd",
   "metadata": {},
   "source": [
    "### 32. Compare two sets."
   ]
  },
  {
   "cell_type": "code",
   "execution_count": 13,
   "id": "18b6739a-c48c-4af7-983a-543247a33f4c",
   "metadata": {},
   "outputs": [
    {
     "name": "stdout",
     "output_type": "stream",
     "text": [
      "set1 and set2 are equal False\n",
      "set1 and set2 are not equal True\n"
     ]
    }
   ],
   "source": [
    "set1 = {1,2,3,4,5}\n",
    "set2 = {1,3,5,7,8}\n",
    "\n",
    "print(\"set1 and set2 are equal\",set1 == set2)\n",
    "print(\"set1 and set2 are not equal\",set1 != set2)"
   ]
  },
  {
   "cell_type": "markdown",
   "id": "45185036-2c1d-4789-b103-f52ed7d6a122",
   "metadata": {},
   "source": [
    "### 33.Create a set from a string."
   ]
  },
  {
   "cell_type": "code",
   "execution_count": 20,
   "id": "1957e9a4-e957-43e6-962a-472f47b1b707",
   "metadata": {},
   "outputs": [
    {
     "data": {
      "text/plain": [
       "{'a', 'b', 'g', 'h', 't'}"
      ]
     },
     "execution_count": 20,
     "metadata": {},
     "output_type": "execute_result"
    }
   ],
   "source": [
    "my_set = \"bhagat\"\n",
    "set(my_set)\n",
    "\n",
    "## in the set remove duplicates."
   ]
  },
  {
   "cell_type": "markdown",
   "id": "f04dc8bf-8d93-42bd-b49e-a05baa35abbb",
   "metadata": {},
   "source": [
    "### 34.Convert a set of strings to a set of integers."
   ]
  },
  {
   "cell_type": "code",
   "execution_count": 9,
   "id": "588a6d77-d9f6-42a6-9c20-6b47672877b0",
   "metadata": {},
   "outputs": [
    {
     "name": "stdout",
     "output_type": "stream",
     "text": [
      "set of integers: {12, 13, 14, 15, 16}\n"
     ]
    }
   ],
   "source": [
    "string_set = {\"12\",\"13\",\"14\",\"15\",\"16\"}\n",
    "integer_set = set()\n",
    "for s in string_set:\n",
    "    integer_set.add(int(s))\n",
    "print(\"set of integers:\",integer_set)\n"
   ]
  },
  {
   "cell_type": "markdown",
   "id": "d72843ec-62c4-45a9-a3cc-f5f1819fdd8e",
   "metadata": {},
   "source": [
    "### 35 Convert a set of integers to a set of strings."
   ]
  },
  {
   "cell_type": "code",
   "execution_count": 10,
   "id": "1df8fcb1-8f80-4033-b2bc-ad9719851bad",
   "metadata": {},
   "outputs": [
    {
     "name": "stdout",
     "output_type": "stream",
     "text": [
      "set of string: {'12'}\n",
      "set of string: {'13', '12'}\n",
      "set of string: {'14', '13', '12'}\n",
      "set of string: {'14', '13', '15', '12'}\n",
      "set of string: {'15', '16', '13', '14', '12'}\n"
     ]
    }
   ],
   "source": [
    "set_of_integers = {12, 13, 14, 15, 16}\n",
    "string_set = set()\n",
    "for s in integer_set:\n",
    "    string_set.add(str(s))\n",
    "    print(\"set of string:\", string_set)"
   ]
  },
  {
   "cell_type": "markdown",
   "id": "2bd9f1e3-5bf5-49d6-9928-2789e70c2446",
   "metadata": {},
   "source": [
    "### 36.Create a set from a tuple."
   ]
  },
  {
   "cell_type": "code",
   "execution_count": 11,
   "id": "175a58f8-bf41-47de-a1d8-a49a1ae557ff",
   "metadata": {},
   "outputs": [
    {
     "data": {
      "text/plain": [
       "{1, 2, 3, 4, 5}"
      ]
     },
     "execution_count": 11,
     "metadata": {},
     "output_type": "execute_result"
    }
   ],
   "source": [
    "my_tuple = (1,2,3,4,5)\n",
    "set(my_tuple)"
   ]
  },
  {
   "cell_type": "markdown",
   "id": "bb7edf66-2b96-47c6-96d1-ad90e2163406",
   "metadata": {},
   "source": [
    "### 37.convert a set to a tuple."
   ]
  },
  {
   "cell_type": "code",
   "execution_count": 12,
   "id": "17d0303f-2b6e-4f1d-9ce7-18c56e9dd6ad",
   "metadata": {},
   "outputs": [
    {
     "data": {
      "text/plain": [
       "(1, 2, 3, 4, 5)"
      ]
     },
     "execution_count": 12,
     "metadata": {},
     "output_type": "execute_result"
    }
   ],
   "source": [
    "my_set = {1,2,3,4,5}\n",
    "tuple(my_set)"
   ]
  },
  {
   "cell_type": "markdown",
   "id": "010442d8-e701-4b95-9576-a49fae16e7fb",
   "metadata": {},
   "source": [
    "### 38.Find the maximum value in a set."
   ]
  },
  {
   "cell_type": "code",
   "execution_count": 13,
   "id": "7e48901e-3957-4207-8ba0-51d3245f4304",
   "metadata": {},
   "outputs": [
    {
     "name": "stdout",
     "output_type": "stream",
     "text": [
      "the maximum value in a set: 100\n"
     ]
    }
   ],
   "source": [
    "my_set = {12,15,22,50,100}\n",
    "maximum_value  = max(my_set)\n",
    "print(\"the maximum value in a set:\", maximum_value)"
   ]
  },
  {
   "cell_type": "markdown",
   "id": "edf0298b-f25f-4690-8078-f81555439267",
   "metadata": {},
   "source": [
    "### 39.Find the minimum value in a set."
   ]
  },
  {
   "cell_type": "code",
   "execution_count": 15,
   "id": "0786454a-9812-418f-8494-2395236401fa",
   "metadata": {},
   "outputs": [
    {
     "name": "stdout",
     "output_type": "stream",
     "text": [
      "the minimum value in a set: 12\n"
     ]
    }
   ],
   "source": [
    "my_set = {12,15,22,50,100}\n",
    "minimum_value = min(my_set)\n",
    "print(\"the minimum value in a set:\", minimum_value)"
   ]
  },
  {
   "cell_type": "markdown",
   "id": "3c207625-047c-47c8-b3ff-fdc2a5fcb4d7",
   "metadata": {},
   "source": [
    "### 40 Create a set from user input."
   ]
  },
  {
   "cell_type": "code",
   "execution_count": 4,
   "id": "49474c8c-c58f-4ce9-951c-980babcbdcd3",
   "metadata": {
    "colab": {
     "base_uri": "https://localhost:8080/"
    },
    "id": "KY1zAijAYhlX",
    "outputId": "8ee4f354-3391-4ebe-eb8d-f5020a857abb"
   },
   "outputs": [
    {
     "name": "stdout",
     "output_type": "stream",
     "text": [
      "Enter elements for the set (type 'job to finish):\n"
     ]
    },
    {
     "name": "stdin",
     "output_type": "stream",
     "text": [
      ">  python , java , job\n",
      ">  java\n",
      ">  job\n"
     ]
    },
    {
     "name": "stdout",
     "output_type": "stream",
     "text": [
      "Final set: {'java', 'python , java , job'}\n"
     ]
    }
   ],
   "source": [
    "user_set = set()\n",
    "print(\"Enter elements for the set (type 'job to finish):\")\n",
    "while True:\n",
    "    user_input = input(\"> \")  \n",
    "\n",
    "    if user_input.lower() == 'job':\n",
    "        break  \n",
    "    user_set.add(user_input)\n",
    "print(\"Final set:\", user_set)"
   ]
  },
  {
   "cell_type": "markdown",
   "id": "1bc3d524-142e-43b3-b9b0-283d4b8653a0",
   "metadata": {},
   "source": [
    "### 41.check if the intersection of two sets is empty."
   ]
  },
  {
   "cell_type": "code",
   "execution_count": 3,
   "id": "24d5875b-3f95-4bce-8c77-62d02ca06f8f",
   "metadata": {
    "colab": {
     "base_uri": "https://localhost:8080/"
    },
    "id": "G0V2dXFzbNpd",
    "outputId": "07404266-ae61-4024-c0a4-0137487e52e1"
   },
   "outputs": [
    {
     "name": "stdout",
     "output_type": "stream",
     "text": [
      "The intersection of the two sets is empty.\n"
     ]
    }
   ],
   "source": [
    "set1 = {1,2,3,4}\n",
    "set2 = {5,6,7,8}\n",
    "\n",
    "intersection_result = set1.intersection(set2)\n",
    "\n",
    "if not intersection_result:\n",
    "    print(\"The intersection of the two sets is empty.\")\n",
    "else:\n",
    "    print(\"The intersection of the two sets is not empty.\")"
   ]
  },
  {
   "cell_type": "markdown",
   "id": "7090d393-83cd-4333-9561-b1b6c1369c22",
   "metadata": {},
   "source": [
    "### 42.Create a set of the first 5 fibonacci numbers."
   ]
  },
  {
   "cell_type": "code",
   "execution_count": 3,
   "id": "6e9f7f4b-e7c1-47db-87aa-aabe85aa8e49",
   "metadata": {},
   "outputs": [
    {
     "name": "stdout",
     "output_type": "stream",
     "text": [
      "a set of the first 5 fibonacci numbers: {0, 1, 2, 3, 5}\n"
     ]
    }
   ],
   "source": [
    "def generate_fibonacci(n):\n",
    "    fibonacci_set = set()\n",
    "    a,b = 0,1\n",
    "    for _ in range(n):\n",
    "        fibonacci_set.add(a)\n",
    "        a,b = b,a+b\n",
    "    return fibonacci_set\n",
    "first_5_fibonacci = generate_fibonacci(6)\n",
    "print(\"a set of the first 5 fibonacci numbers:\",first_5_fibonacci)   "
   ]
  },
  {
   "cell_type": "markdown",
   "id": "6107c77a-afe1-4dd4-84bb-da6f4bd60dec",
   "metadata": {},
   "source": [
    "### 43.Remove duplicates from a list using sets."
   ]
  },
  {
   "cell_type": "code",
   "execution_count": 4,
   "id": "dc8fc56a-1e3d-466e-be95-a17532c05036",
   "metadata": {},
   "outputs": [
    {
     "name": "stdout",
     "output_type": "stream",
     "text": [
      "remove duplicates from list: [1, 2, 3, 4, 5, 6, 7, 8, 9]\n"
     ]
    }
   ],
   "source": [
    "list1 = [1,2,3,1,2,4,5,6,4,5,7,8,9,7,8]\n",
    "new_list = list(set(list1))\n",
    "print(\"remove duplicates from list:\",new_list)"
   ]
  },
  {
   "cell_type": "markdown",
   "id": "9b6fbf0d-d5b9-42ad-8539-a3bc8b0581e6",
   "metadata": {},
   "source": [
    "### 44 Check  if two sets have the same elements, regardless of their count."
   ]
  },
  {
   "cell_type": "code",
   "execution_count": 2,
   "id": "3fc9d1d6-7b4a-4e7b-8e30-25b6715047cb",
   "metadata": {},
   "outputs": [
    {
     "name": "stdout",
     "output_type": "stream",
     "text": [
      "set1 and set2 do not have same element\n"
     ]
    }
   ],
   "source": [
    "set1 = {1,2,3,4}\n",
    "set2 = {5,6,7}\n",
    "if set1 == set2:\n",
    "    print(\"set1 and set2 have the same element\")\n",
    "else:\n",
    "    print(\"set1 and set2 do not have same element\")\n"
   ]
  },
  {
   "cell_type": "markdown",
   "id": "b099664d-9b8d-46fe-a189-d46a497eda14",
   "metadata": {},
   "source": [
    "### 45.Create a set of the first 'n' powers of 2."
   ]
  },
  {
   "cell_type": "code",
   "execution_count": 3,
   "id": "9b2cecc5-3041-471e-8e81-8b7609066f99",
   "metadata": {},
   "outputs": [
    {
     "name": "stdout",
     "output_type": "stream",
     "text": [
      "set of first 'n' power of 2: {1, 2, 4, 8, 16}\n"
     ]
    }
   ],
   "source": [
    "n = 5\n",
    "power_of_2_set = set()\n",
    "for i in range (n):\n",
    "    power_of_2 = 2 ** i\n",
    "    power_of_2_set.add(power_of_2)\n",
    "print(\"set of first 'n' power of 2:\",power_of_2_set)"
   ]
  },
  {
   "cell_type": "markdown",
   "id": "7ec66916-013d-4102-9851-2799f4daf0f6",
   "metadata": {},
   "source": [
    "### 46 Find the common elements between a set and a list."
   ]
  },
  {
   "cell_type": "code",
   "execution_count": 4,
   "id": "2988ab06-808e-41fa-b94a-1dac0cd176a5",
   "metadata": {},
   "outputs": [
    {
     "name": "stdout",
     "output_type": "stream",
     "text": [
      "common element between set and list: {2, 4, 5}\n"
     ]
    }
   ],
   "source": [
    "my_set = {1,2,3,4,5,6}\n",
    "my_list = {2,5,4,7,8,9}\n",
    "common_elements = set(my_set).intersection(my_list)\n",
    "print(\"common element between set and list:\",common_elements)"
   ]
  },
  {
   "cell_type": "markdown",
   "id": "39e1887f-2d75-428d-8f28-9d7e62c7912b",
   "metadata": {},
   "source": [
    "### 47 Create a set of the first 'n' triangular numbers."
   ]
  },
  {
   "cell_type": "code",
   "execution_count": 7,
   "id": "319ca0ce-30b5-42f4-b6cd-08a8fef69a89",
   "metadata": {},
   "outputs": [
    {
     "name": "stdout",
     "output_type": "stream",
     "text": [
      "set of first 'n' triangular numbers: {1, 3, 6, 10, 15, 21, 28}\n"
     ]
    }
   ],
   "source": [
    "n = 7\n",
    "triangular_numbers_set = set()\n",
    "triangular_number = 0\n",
    "\n",
    "for i in range (1, n + 1):\n",
    "    triangular_number += i\n",
    "    triangular_numbers_set.add(triangular_number)\n",
    "print(\"set of first 'n' triangular numbers:\",triangular_numbers_set)"
   ]
  },
  {
   "cell_type": "markdown",
   "id": "1a57cfd3-eacb-4a81-a476-769c95413909",
   "metadata": {},
   "source": [
    "### 48.check if a set contains another set as a subset."
   ]
  },
  {
   "cell_type": "code",
   "execution_count": 10,
   "id": "d466541e-f722-45e4-bb07-fe59f262ee7d",
   "metadata": {},
   "outputs": [
    {
     "name": "stdout",
     "output_type": "stream",
     "text": [
      "set does not contains another set as a subset\n"
     ]
    }
   ],
   "source": [
    "set1 = {1,2,3,4,5,6}\n",
    "set2 = {4,5,6,7,8}\n",
    "\n",
    "subset = set2.issubset(set1)\n",
    "\n",
    "if subset:\n",
    "    print(\"set contains another set as a subset\")\n",
    "else:\n",
    "    print(\"set does not contains another set as a subset\")\n"
   ]
  },
  {
   "cell_type": "markdown",
   "id": "84e74464-5b94-483f-8687-7d713394a49e",
   "metadata": {},
   "source": [
    "### 49.Create a set of alternating 1s and 0s of length 'n'."
   ]
  },
  {
   "cell_type": "code",
   "execution_count": 19,
   "id": "4e614f87-f48b-4f2d-bc36-184506a966ec",
   "metadata": {},
   "outputs": [
    {
     "name": "stdout",
     "output_type": "stream",
     "text": [
      "set of alternating 1s and 0s of length: {0, 1}\n"
     ]
    }
   ],
   "source": [
    "n = 5\n",
    "alternating_set = set()\n",
    "current_digit = 0\n",
    "\n",
    "for i in range (n):\n",
    "    alternating_set.add(current_digit)\n",
    "    current_digit = 1 - current_digit\n",
    "print(\"set of alternating 1s and 0s of length:\",alternating_set)"
   ]
  },
  {
   "cell_type": "markdown",
   "id": "9de0a668-a5f2-429a-968f-93a01a7bf2bb",
   "metadata": {},
   "source": [
    "### 50 Merge multiple sets into one."
   ]
  },
  {
   "cell_type": "code",
   "execution_count": 25,
   "id": "ec2a0820-ea84-4963-a956-674740ad4386",
   "metadata": {},
   "outputs": [
    {
     "name": "stdout",
     "output_type": "stream",
     "text": [
      "merge multiple sets into one: {1, 2, 3, 4, 5, 6, 7, 8}\n"
     ]
    }
   ],
   "source": [
    "set1 = {1,2}\n",
    "set2 = {3,4,5}\n",
    "set3 = {6,7,8}\n",
    "\n",
    "merge_multiple = set1.union(set2,set3)\n",
    "print(\"merge multiple sets into one:\", merge_multiple)"
   ]
  },
  {
   "cell_type": "code",
   "execution_count": null,
   "id": "982d55ea-5b62-4cc4-b61a-48a9e5a52a6c",
   "metadata": {},
   "outputs": [],
   "source": []
  }
 ],
 "metadata": {
  "kernelspec": {
   "display_name": "Python 3 (ipykernel)",
   "language": "python",
   "name": "python3"
  },
  "language_info": {
   "codemirror_mode": {
    "name": "ipython",
    "version": 3
   },
   "file_extension": ".py",
   "mimetype": "text/x-python",
   "name": "python",
   "nbconvert_exporter": "python",
   "pygments_lexer": "ipython3",
   "version": "3.10.8"
  }
 },
 "nbformat": 4,
 "nbformat_minor": 5
}
